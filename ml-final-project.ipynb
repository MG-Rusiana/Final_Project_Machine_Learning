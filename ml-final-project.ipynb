{
 "cells": [
  {
   "cell_type": "code",
   "execution_count": 1,
   "id": "992103fc",
   "metadata": {
    "_cell_guid": "b1076dfc-b9ad-4769-8c92-a6c4dae69d19",
    "_uuid": "8f2839f25d086af736a60e9eeb907d3b93b6e0e5",
    "execution": {
     "iopub.execute_input": "2023-06-23T00:44:56.383067Z",
     "iopub.status.busy": "2023-06-23T00:44:56.382644Z",
     "iopub.status.idle": "2023-06-23T00:44:57.996690Z",
     "shell.execute_reply": "2023-06-23T00:44:57.995439Z"
    },
    "papermill": {
     "duration": 1.636424,
     "end_time": "2023-06-23T00:44:57.999900",
     "exception": false,
     "start_time": "2023-06-23T00:44:56.363476",
     "status": "completed"
    },
    "tags": []
   },
   "outputs": [],
   "source": [
    "import numpy as np # linear algebra\n",
    "import pandas as pd # data processing, CSV file I/O (e.g. pd.read_csv)\n",
    "from sklearn.metrics import confusion_matrix\n",
    "from statistics import mean, stdev"
   ]
  },
  {
   "cell_type": "code",
   "execution_count": 2,
   "id": "b07dcf5e",
   "metadata": {
    "execution": {
     "iopub.execute_input": "2023-06-23T00:44:58.033728Z",
     "iopub.status.busy": "2023-06-23T00:44:58.033262Z",
     "iopub.status.idle": "2023-06-23T00:44:58.115806Z",
     "shell.execute_reply": "2023-06-23T00:44:58.114675Z"
    },
    "papermill": {
     "duration": 0.104035,
     "end_time": "2023-06-23T00:44:58.119222",
     "exception": false,
     "start_time": "2023-06-23T00:44:58.015187",
     "status": "completed"
    },
    "tags": []
   },
   "outputs": [
    {
     "data": {
      "text/html": [
       "<div>\n",
       "<style scoped>\n",
       "    .dataframe tbody tr th:only-of-type {\n",
       "        vertical-align: middle;\n",
       "    }\n",
       "\n",
       "    .dataframe tbody tr th {\n",
       "        vertical-align: top;\n",
       "    }\n",
       "\n",
       "    .dataframe thead th {\n",
       "        text-align: right;\n",
       "    }\n",
       "</style>\n",
       "<table border=\"1\" class=\"dataframe\">\n",
       "  <thead>\n",
       "    <tr style=\"text-align: right;\">\n",
       "      <th></th>\n",
       "      <th>index</th>\n",
       "      <th>Patient Id</th>\n",
       "      <th>Age</th>\n",
       "      <th>Gender</th>\n",
       "      <th>Air Pollution</th>\n",
       "      <th>Alcohol use</th>\n",
       "      <th>Dust Allergy</th>\n",
       "      <th>OccuPational Hazards</th>\n",
       "      <th>Genetic Risk</th>\n",
       "      <th>chronic Lung Disease</th>\n",
       "      <th>...</th>\n",
       "      <th>Fatigue</th>\n",
       "      <th>Weight Loss</th>\n",
       "      <th>Shortness of Breath</th>\n",
       "      <th>Wheezing</th>\n",
       "      <th>Swallowing Difficulty</th>\n",
       "      <th>Clubbing of Finger Nails</th>\n",
       "      <th>Frequent Cold</th>\n",
       "      <th>Dry Cough</th>\n",
       "      <th>Snoring</th>\n",
       "      <th>Level</th>\n",
       "    </tr>\n",
       "  </thead>\n",
       "  <tbody>\n",
       "    <tr>\n",
       "      <th>0</th>\n",
       "      <td>0</td>\n",
       "      <td>P1</td>\n",
       "      <td>33</td>\n",
       "      <td>1</td>\n",
       "      <td>2</td>\n",
       "      <td>4</td>\n",
       "      <td>5</td>\n",
       "      <td>4</td>\n",
       "      <td>3</td>\n",
       "      <td>2</td>\n",
       "      <td>...</td>\n",
       "      <td>3</td>\n",
       "      <td>4</td>\n",
       "      <td>2</td>\n",
       "      <td>2</td>\n",
       "      <td>3</td>\n",
       "      <td>1</td>\n",
       "      <td>2</td>\n",
       "      <td>3</td>\n",
       "      <td>4</td>\n",
       "      <td>Low</td>\n",
       "    </tr>\n",
       "    <tr>\n",
       "      <th>1</th>\n",
       "      <td>1</td>\n",
       "      <td>P10</td>\n",
       "      <td>17</td>\n",
       "      <td>1</td>\n",
       "      <td>3</td>\n",
       "      <td>1</td>\n",
       "      <td>5</td>\n",
       "      <td>3</td>\n",
       "      <td>4</td>\n",
       "      <td>2</td>\n",
       "      <td>...</td>\n",
       "      <td>1</td>\n",
       "      <td>3</td>\n",
       "      <td>7</td>\n",
       "      <td>8</td>\n",
       "      <td>6</td>\n",
       "      <td>2</td>\n",
       "      <td>1</td>\n",
       "      <td>7</td>\n",
       "      <td>2</td>\n",
       "      <td>Medium</td>\n",
       "    </tr>\n",
       "    <tr>\n",
       "      <th>2</th>\n",
       "      <td>2</td>\n",
       "      <td>P100</td>\n",
       "      <td>35</td>\n",
       "      <td>1</td>\n",
       "      <td>4</td>\n",
       "      <td>5</td>\n",
       "      <td>6</td>\n",
       "      <td>5</td>\n",
       "      <td>5</td>\n",
       "      <td>4</td>\n",
       "      <td>...</td>\n",
       "      <td>8</td>\n",
       "      <td>7</td>\n",
       "      <td>9</td>\n",
       "      <td>2</td>\n",
       "      <td>1</td>\n",
       "      <td>4</td>\n",
       "      <td>6</td>\n",
       "      <td>7</td>\n",
       "      <td>2</td>\n",
       "      <td>High</td>\n",
       "    </tr>\n",
       "    <tr>\n",
       "      <th>3</th>\n",
       "      <td>3</td>\n",
       "      <td>P1000</td>\n",
       "      <td>37</td>\n",
       "      <td>1</td>\n",
       "      <td>7</td>\n",
       "      <td>7</td>\n",
       "      <td>7</td>\n",
       "      <td>7</td>\n",
       "      <td>6</td>\n",
       "      <td>7</td>\n",
       "      <td>...</td>\n",
       "      <td>4</td>\n",
       "      <td>2</td>\n",
       "      <td>3</td>\n",
       "      <td>1</td>\n",
       "      <td>4</td>\n",
       "      <td>5</td>\n",
       "      <td>6</td>\n",
       "      <td>7</td>\n",
       "      <td>5</td>\n",
       "      <td>High</td>\n",
       "    </tr>\n",
       "    <tr>\n",
       "      <th>4</th>\n",
       "      <td>4</td>\n",
       "      <td>P101</td>\n",
       "      <td>46</td>\n",
       "      <td>1</td>\n",
       "      <td>6</td>\n",
       "      <td>8</td>\n",
       "      <td>7</td>\n",
       "      <td>7</td>\n",
       "      <td>7</td>\n",
       "      <td>6</td>\n",
       "      <td>...</td>\n",
       "      <td>3</td>\n",
       "      <td>2</td>\n",
       "      <td>4</td>\n",
       "      <td>1</td>\n",
       "      <td>4</td>\n",
       "      <td>2</td>\n",
       "      <td>4</td>\n",
       "      <td>2</td>\n",
       "      <td>3</td>\n",
       "      <td>High</td>\n",
       "    </tr>\n",
       "    <tr>\n",
       "      <th>...</th>\n",
       "      <td>...</td>\n",
       "      <td>...</td>\n",
       "      <td>...</td>\n",
       "      <td>...</td>\n",
       "      <td>...</td>\n",
       "      <td>...</td>\n",
       "      <td>...</td>\n",
       "      <td>...</td>\n",
       "      <td>...</td>\n",
       "      <td>...</td>\n",
       "      <td>...</td>\n",
       "      <td>...</td>\n",
       "      <td>...</td>\n",
       "      <td>...</td>\n",
       "      <td>...</td>\n",
       "      <td>...</td>\n",
       "      <td>...</td>\n",
       "      <td>...</td>\n",
       "      <td>...</td>\n",
       "      <td>...</td>\n",
       "      <td>...</td>\n",
       "    </tr>\n",
       "    <tr>\n",
       "      <th>995</th>\n",
       "      <td>995</td>\n",
       "      <td>P995</td>\n",
       "      <td>44</td>\n",
       "      <td>1</td>\n",
       "      <td>6</td>\n",
       "      <td>7</td>\n",
       "      <td>7</td>\n",
       "      <td>7</td>\n",
       "      <td>7</td>\n",
       "      <td>6</td>\n",
       "      <td>...</td>\n",
       "      <td>5</td>\n",
       "      <td>3</td>\n",
       "      <td>2</td>\n",
       "      <td>7</td>\n",
       "      <td>8</td>\n",
       "      <td>2</td>\n",
       "      <td>4</td>\n",
       "      <td>5</td>\n",
       "      <td>3</td>\n",
       "      <td>High</td>\n",
       "    </tr>\n",
       "    <tr>\n",
       "      <th>996</th>\n",
       "      <td>996</td>\n",
       "      <td>P996</td>\n",
       "      <td>37</td>\n",
       "      <td>2</td>\n",
       "      <td>6</td>\n",
       "      <td>8</td>\n",
       "      <td>7</td>\n",
       "      <td>7</td>\n",
       "      <td>7</td>\n",
       "      <td>6</td>\n",
       "      <td>...</td>\n",
       "      <td>9</td>\n",
       "      <td>6</td>\n",
       "      <td>5</td>\n",
       "      <td>7</td>\n",
       "      <td>2</td>\n",
       "      <td>4</td>\n",
       "      <td>3</td>\n",
       "      <td>1</td>\n",
       "      <td>4</td>\n",
       "      <td>High</td>\n",
       "    </tr>\n",
       "    <tr>\n",
       "      <th>997</th>\n",
       "      <td>997</td>\n",
       "      <td>P997</td>\n",
       "      <td>25</td>\n",
       "      <td>2</td>\n",
       "      <td>4</td>\n",
       "      <td>5</td>\n",
       "      <td>6</td>\n",
       "      <td>5</td>\n",
       "      <td>5</td>\n",
       "      <td>4</td>\n",
       "      <td>...</td>\n",
       "      <td>8</td>\n",
       "      <td>7</td>\n",
       "      <td>9</td>\n",
       "      <td>2</td>\n",
       "      <td>1</td>\n",
       "      <td>4</td>\n",
       "      <td>6</td>\n",
       "      <td>7</td>\n",
       "      <td>2</td>\n",
       "      <td>High</td>\n",
       "    </tr>\n",
       "    <tr>\n",
       "      <th>998</th>\n",
       "      <td>998</td>\n",
       "      <td>P998</td>\n",
       "      <td>18</td>\n",
       "      <td>2</td>\n",
       "      <td>6</td>\n",
       "      <td>8</td>\n",
       "      <td>7</td>\n",
       "      <td>7</td>\n",
       "      <td>7</td>\n",
       "      <td>6</td>\n",
       "      <td>...</td>\n",
       "      <td>3</td>\n",
       "      <td>2</td>\n",
       "      <td>4</td>\n",
       "      <td>1</td>\n",
       "      <td>4</td>\n",
       "      <td>2</td>\n",
       "      <td>4</td>\n",
       "      <td>2</td>\n",
       "      <td>3</td>\n",
       "      <td>High</td>\n",
       "    </tr>\n",
       "    <tr>\n",
       "      <th>999</th>\n",
       "      <td>999</td>\n",
       "      <td>P999</td>\n",
       "      <td>47</td>\n",
       "      <td>1</td>\n",
       "      <td>6</td>\n",
       "      <td>5</td>\n",
       "      <td>6</td>\n",
       "      <td>5</td>\n",
       "      <td>5</td>\n",
       "      <td>4</td>\n",
       "      <td>...</td>\n",
       "      <td>8</td>\n",
       "      <td>7</td>\n",
       "      <td>9</td>\n",
       "      <td>2</td>\n",
       "      <td>1</td>\n",
       "      <td>4</td>\n",
       "      <td>6</td>\n",
       "      <td>7</td>\n",
       "      <td>2</td>\n",
       "      <td>High</td>\n",
       "    </tr>\n",
       "  </tbody>\n",
       "</table>\n",
       "<p>1000 rows × 26 columns</p>\n",
       "</div>"
      ],
      "text/plain": [
       "     index Patient Id  Age  Gender  Air Pollution  Alcohol use  Dust Allergy  \\\n",
       "0        0         P1   33       1              2            4             5   \n",
       "1        1        P10   17       1              3            1             5   \n",
       "2        2       P100   35       1              4            5             6   \n",
       "3        3      P1000   37       1              7            7             7   \n",
       "4        4       P101   46       1              6            8             7   \n",
       "..     ...        ...  ...     ...            ...          ...           ...   \n",
       "995    995       P995   44       1              6            7             7   \n",
       "996    996       P996   37       2              6            8             7   \n",
       "997    997       P997   25       2              4            5             6   \n",
       "998    998       P998   18       2              6            8             7   \n",
       "999    999       P999   47       1              6            5             6   \n",
       "\n",
       "     OccuPational Hazards  Genetic Risk  chronic Lung Disease  ...  Fatigue  \\\n",
       "0                       4             3                     2  ...        3   \n",
       "1                       3             4                     2  ...        1   \n",
       "2                       5             5                     4  ...        8   \n",
       "3                       7             6                     7  ...        4   \n",
       "4                       7             7                     6  ...        3   \n",
       "..                    ...           ...                   ...  ...      ...   \n",
       "995                     7             7                     6  ...        5   \n",
       "996                     7             7                     6  ...        9   \n",
       "997                     5             5                     4  ...        8   \n",
       "998                     7             7                     6  ...        3   \n",
       "999                     5             5                     4  ...        8   \n",
       "\n",
       "     Weight Loss  Shortness of Breath  Wheezing  Swallowing Difficulty  \\\n",
       "0              4                    2         2                      3   \n",
       "1              3                    7         8                      6   \n",
       "2              7                    9         2                      1   \n",
       "3              2                    3         1                      4   \n",
       "4              2                    4         1                      4   \n",
       "..           ...                  ...       ...                    ...   \n",
       "995            3                    2         7                      8   \n",
       "996            6                    5         7                      2   \n",
       "997            7                    9         2                      1   \n",
       "998            2                    4         1                      4   \n",
       "999            7                    9         2                      1   \n",
       "\n",
       "     Clubbing of Finger Nails  Frequent Cold  Dry Cough  Snoring   Level  \n",
       "0                           1              2          3        4     Low  \n",
       "1                           2              1          7        2  Medium  \n",
       "2                           4              6          7        2    High  \n",
       "3                           5              6          7        5    High  \n",
       "4                           2              4          2        3    High  \n",
       "..                        ...            ...        ...      ...     ...  \n",
       "995                         2              4          5        3    High  \n",
       "996                         4              3          1        4    High  \n",
       "997                         4              6          7        2    High  \n",
       "998                         2              4          2        3    High  \n",
       "999                         4              6          7        2    High  \n",
       "\n",
       "[1000 rows x 26 columns]"
      ]
     },
     "execution_count": 2,
     "metadata": {},
     "output_type": "execute_result"
    }
   ],
   "source": [
    "#load and display the data set\n",
    "dataSet = pd.read_csv(\"/kaggle/input/cancer-patients-and-air-pollution-a-new-link/cancer patient data sets.csv\")\n",
    "dataSet\n"
   ]
  },
  {
   "cell_type": "code",
   "execution_count": 3,
   "id": "e4b04501",
   "metadata": {
    "execution": {
     "iopub.execute_input": "2023-06-23T00:44:58.152137Z",
     "iopub.status.busy": "2023-06-23T00:44:58.151092Z",
     "iopub.status.idle": "2023-06-23T00:44:58.240598Z",
     "shell.execute_reply": "2023-06-23T00:44:58.239399Z"
    },
    "papermill": {
     "duration": 0.108958,
     "end_time": "2023-06-23T00:44:58.243391",
     "exception": false,
     "start_time": "2023-06-23T00:44:58.134433",
     "status": "completed"
    },
    "tags": []
   },
   "outputs": [
    {
     "data": {
      "text/html": [
       "<div>\n",
       "<style scoped>\n",
       "    .dataframe tbody tr th:only-of-type {\n",
       "        vertical-align: middle;\n",
       "    }\n",
       "\n",
       "    .dataframe tbody tr th {\n",
       "        vertical-align: top;\n",
       "    }\n",
       "\n",
       "    .dataframe thead th {\n",
       "        text-align: right;\n",
       "    }\n",
       "</style>\n",
       "<table border=\"1\" class=\"dataframe\">\n",
       "  <thead>\n",
       "    <tr style=\"text-align: right;\">\n",
       "      <th></th>\n",
       "      <th>index</th>\n",
       "      <th>Age</th>\n",
       "      <th>Gender</th>\n",
       "      <th>Air Pollution</th>\n",
       "      <th>Alcohol use</th>\n",
       "      <th>Dust Allergy</th>\n",
       "      <th>OccuPational Hazards</th>\n",
       "      <th>Genetic Risk</th>\n",
       "      <th>chronic Lung Disease</th>\n",
       "      <th>Balanced Diet</th>\n",
       "      <th>...</th>\n",
       "      <th>Coughing of Blood</th>\n",
       "      <th>Fatigue</th>\n",
       "      <th>Weight Loss</th>\n",
       "      <th>Shortness of Breath</th>\n",
       "      <th>Wheezing</th>\n",
       "      <th>Swallowing Difficulty</th>\n",
       "      <th>Clubbing of Finger Nails</th>\n",
       "      <th>Frequent Cold</th>\n",
       "      <th>Dry Cough</th>\n",
       "      <th>Snoring</th>\n",
       "    </tr>\n",
       "  </thead>\n",
       "  <tbody>\n",
       "    <tr>\n",
       "      <th>count</th>\n",
       "      <td>1000.000000</td>\n",
       "      <td>1000.000000</td>\n",
       "      <td>1000.000000</td>\n",
       "      <td>1000.0000</td>\n",
       "      <td>1000.000000</td>\n",
       "      <td>1000.000000</td>\n",
       "      <td>1000.000000</td>\n",
       "      <td>1000.000000</td>\n",
       "      <td>1000.000000</td>\n",
       "      <td>1000.000000</td>\n",
       "      <td>...</td>\n",
       "      <td>1000.000000</td>\n",
       "      <td>1000.000000</td>\n",
       "      <td>1000.000000</td>\n",
       "      <td>1000.000000</td>\n",
       "      <td>1000.000000</td>\n",
       "      <td>1000.000000</td>\n",
       "      <td>1000.000000</td>\n",
       "      <td>1000.000000</td>\n",
       "      <td>1000.000000</td>\n",
       "      <td>1000.000000</td>\n",
       "    </tr>\n",
       "    <tr>\n",
       "      <th>mean</th>\n",
       "      <td>499.500000</td>\n",
       "      <td>37.174000</td>\n",
       "      <td>1.402000</td>\n",
       "      <td>3.8400</td>\n",
       "      <td>4.563000</td>\n",
       "      <td>5.165000</td>\n",
       "      <td>4.840000</td>\n",
       "      <td>4.580000</td>\n",
       "      <td>4.380000</td>\n",
       "      <td>4.491000</td>\n",
       "      <td>...</td>\n",
       "      <td>4.859000</td>\n",
       "      <td>3.856000</td>\n",
       "      <td>3.855000</td>\n",
       "      <td>4.240000</td>\n",
       "      <td>3.777000</td>\n",
       "      <td>3.746000</td>\n",
       "      <td>3.923000</td>\n",
       "      <td>3.536000</td>\n",
       "      <td>3.853000</td>\n",
       "      <td>2.926000</td>\n",
       "    </tr>\n",
       "    <tr>\n",
       "      <th>std</th>\n",
       "      <td>288.819436</td>\n",
       "      <td>12.005493</td>\n",
       "      <td>0.490547</td>\n",
       "      <td>2.0304</td>\n",
       "      <td>2.620477</td>\n",
       "      <td>1.980833</td>\n",
       "      <td>2.107805</td>\n",
       "      <td>2.126999</td>\n",
       "      <td>1.848518</td>\n",
       "      <td>2.135528</td>\n",
       "      <td>...</td>\n",
       "      <td>2.427965</td>\n",
       "      <td>2.244616</td>\n",
       "      <td>2.206546</td>\n",
       "      <td>2.285087</td>\n",
       "      <td>2.041921</td>\n",
       "      <td>2.270383</td>\n",
       "      <td>2.388048</td>\n",
       "      <td>1.832502</td>\n",
       "      <td>2.039007</td>\n",
       "      <td>1.474686</td>\n",
       "    </tr>\n",
       "    <tr>\n",
       "      <th>min</th>\n",
       "      <td>0.000000</td>\n",
       "      <td>14.000000</td>\n",
       "      <td>1.000000</td>\n",
       "      <td>1.0000</td>\n",
       "      <td>1.000000</td>\n",
       "      <td>1.000000</td>\n",
       "      <td>1.000000</td>\n",
       "      <td>1.000000</td>\n",
       "      <td>1.000000</td>\n",
       "      <td>1.000000</td>\n",
       "      <td>...</td>\n",
       "      <td>1.000000</td>\n",
       "      <td>1.000000</td>\n",
       "      <td>1.000000</td>\n",
       "      <td>1.000000</td>\n",
       "      <td>1.000000</td>\n",
       "      <td>1.000000</td>\n",
       "      <td>1.000000</td>\n",
       "      <td>1.000000</td>\n",
       "      <td>1.000000</td>\n",
       "      <td>1.000000</td>\n",
       "    </tr>\n",
       "    <tr>\n",
       "      <th>25%</th>\n",
       "      <td>249.750000</td>\n",
       "      <td>27.750000</td>\n",
       "      <td>1.000000</td>\n",
       "      <td>2.0000</td>\n",
       "      <td>2.000000</td>\n",
       "      <td>4.000000</td>\n",
       "      <td>3.000000</td>\n",
       "      <td>2.000000</td>\n",
       "      <td>3.000000</td>\n",
       "      <td>2.000000</td>\n",
       "      <td>...</td>\n",
       "      <td>3.000000</td>\n",
       "      <td>2.000000</td>\n",
       "      <td>2.000000</td>\n",
       "      <td>2.000000</td>\n",
       "      <td>2.000000</td>\n",
       "      <td>2.000000</td>\n",
       "      <td>2.000000</td>\n",
       "      <td>2.000000</td>\n",
       "      <td>2.000000</td>\n",
       "      <td>2.000000</td>\n",
       "    </tr>\n",
       "    <tr>\n",
       "      <th>50%</th>\n",
       "      <td>499.500000</td>\n",
       "      <td>36.000000</td>\n",
       "      <td>1.000000</td>\n",
       "      <td>3.0000</td>\n",
       "      <td>5.000000</td>\n",
       "      <td>6.000000</td>\n",
       "      <td>5.000000</td>\n",
       "      <td>5.000000</td>\n",
       "      <td>4.000000</td>\n",
       "      <td>4.000000</td>\n",
       "      <td>...</td>\n",
       "      <td>4.000000</td>\n",
       "      <td>3.000000</td>\n",
       "      <td>3.000000</td>\n",
       "      <td>4.000000</td>\n",
       "      <td>4.000000</td>\n",
       "      <td>4.000000</td>\n",
       "      <td>4.000000</td>\n",
       "      <td>3.000000</td>\n",
       "      <td>4.000000</td>\n",
       "      <td>3.000000</td>\n",
       "    </tr>\n",
       "    <tr>\n",
       "      <th>75%</th>\n",
       "      <td>749.250000</td>\n",
       "      <td>45.000000</td>\n",
       "      <td>2.000000</td>\n",
       "      <td>6.0000</td>\n",
       "      <td>7.000000</td>\n",
       "      <td>7.000000</td>\n",
       "      <td>7.000000</td>\n",
       "      <td>7.000000</td>\n",
       "      <td>6.000000</td>\n",
       "      <td>7.000000</td>\n",
       "      <td>...</td>\n",
       "      <td>7.000000</td>\n",
       "      <td>5.000000</td>\n",
       "      <td>6.000000</td>\n",
       "      <td>6.000000</td>\n",
       "      <td>5.000000</td>\n",
       "      <td>5.000000</td>\n",
       "      <td>5.000000</td>\n",
       "      <td>5.000000</td>\n",
       "      <td>6.000000</td>\n",
       "      <td>4.000000</td>\n",
       "    </tr>\n",
       "    <tr>\n",
       "      <th>max</th>\n",
       "      <td>999.000000</td>\n",
       "      <td>73.000000</td>\n",
       "      <td>2.000000</td>\n",
       "      <td>8.0000</td>\n",
       "      <td>8.000000</td>\n",
       "      <td>8.000000</td>\n",
       "      <td>8.000000</td>\n",
       "      <td>7.000000</td>\n",
       "      <td>7.000000</td>\n",
       "      <td>7.000000</td>\n",
       "      <td>...</td>\n",
       "      <td>9.000000</td>\n",
       "      <td>9.000000</td>\n",
       "      <td>8.000000</td>\n",
       "      <td>9.000000</td>\n",
       "      <td>8.000000</td>\n",
       "      <td>8.000000</td>\n",
       "      <td>9.000000</td>\n",
       "      <td>7.000000</td>\n",
       "      <td>7.000000</td>\n",
       "      <td>7.000000</td>\n",
       "    </tr>\n",
       "  </tbody>\n",
       "</table>\n",
       "<p>8 rows × 24 columns</p>\n",
       "</div>"
      ],
      "text/plain": [
       "             index          Age       Gender  Air Pollution  Alcohol use  \\\n",
       "count  1000.000000  1000.000000  1000.000000      1000.0000  1000.000000   \n",
       "mean    499.500000    37.174000     1.402000         3.8400     4.563000   \n",
       "std     288.819436    12.005493     0.490547         2.0304     2.620477   \n",
       "min       0.000000    14.000000     1.000000         1.0000     1.000000   \n",
       "25%     249.750000    27.750000     1.000000         2.0000     2.000000   \n",
       "50%     499.500000    36.000000     1.000000         3.0000     5.000000   \n",
       "75%     749.250000    45.000000     2.000000         6.0000     7.000000   \n",
       "max     999.000000    73.000000     2.000000         8.0000     8.000000   \n",
       "\n",
       "       Dust Allergy  OccuPational Hazards  Genetic Risk  chronic Lung Disease  \\\n",
       "count   1000.000000           1000.000000   1000.000000           1000.000000   \n",
       "mean       5.165000              4.840000      4.580000              4.380000   \n",
       "std        1.980833              2.107805      2.126999              1.848518   \n",
       "min        1.000000              1.000000      1.000000              1.000000   \n",
       "25%        4.000000              3.000000      2.000000              3.000000   \n",
       "50%        6.000000              5.000000      5.000000              4.000000   \n",
       "75%        7.000000              7.000000      7.000000              6.000000   \n",
       "max        8.000000              8.000000      7.000000              7.000000   \n",
       "\n",
       "       Balanced Diet  ...  Coughing of Blood      Fatigue  Weight Loss  \\\n",
       "count    1000.000000  ...        1000.000000  1000.000000  1000.000000   \n",
       "mean        4.491000  ...           4.859000     3.856000     3.855000   \n",
       "std         2.135528  ...           2.427965     2.244616     2.206546   \n",
       "min         1.000000  ...           1.000000     1.000000     1.000000   \n",
       "25%         2.000000  ...           3.000000     2.000000     2.000000   \n",
       "50%         4.000000  ...           4.000000     3.000000     3.000000   \n",
       "75%         7.000000  ...           7.000000     5.000000     6.000000   \n",
       "max         7.000000  ...           9.000000     9.000000     8.000000   \n",
       "\n",
       "       Shortness of Breath     Wheezing  Swallowing Difficulty  \\\n",
       "count          1000.000000  1000.000000            1000.000000   \n",
       "mean              4.240000     3.777000               3.746000   \n",
       "std               2.285087     2.041921               2.270383   \n",
       "min               1.000000     1.000000               1.000000   \n",
       "25%               2.000000     2.000000               2.000000   \n",
       "50%               4.000000     4.000000               4.000000   \n",
       "75%               6.000000     5.000000               5.000000   \n",
       "max               9.000000     8.000000               8.000000   \n",
       "\n",
       "       Clubbing of Finger Nails  Frequent Cold    Dry Cough      Snoring  \n",
       "count               1000.000000    1000.000000  1000.000000  1000.000000  \n",
       "mean                   3.923000       3.536000     3.853000     2.926000  \n",
       "std                    2.388048       1.832502     2.039007     1.474686  \n",
       "min                    1.000000       1.000000     1.000000     1.000000  \n",
       "25%                    2.000000       2.000000     2.000000     2.000000  \n",
       "50%                    4.000000       3.000000     4.000000     3.000000  \n",
       "75%                    5.000000       5.000000     6.000000     4.000000  \n",
       "max                    9.000000       7.000000     7.000000     7.000000  \n",
       "\n",
       "[8 rows x 24 columns]"
      ]
     },
     "execution_count": 3,
     "metadata": {},
     "output_type": "execute_result"
    }
   ],
   "source": [
    "#describe the dataset\n",
    "dataSet.describe()"
   ]
  },
  {
   "cell_type": "code",
   "execution_count": 4,
   "id": "a0e7db29",
   "metadata": {
    "execution": {
     "iopub.execute_input": "2023-06-23T00:44:58.277327Z",
     "iopub.status.busy": "2023-06-23T00:44:58.276866Z",
     "iopub.status.idle": "2023-06-23T00:44:58.290051Z",
     "shell.execute_reply": "2023-06-23T00:44:58.289141Z"
    },
    "papermill": {
     "duration": 0.033065,
     "end_time": "2023-06-23T00:44:58.292378",
     "exception": false,
     "start_time": "2023-06-23T00:44:58.259313",
     "status": "completed"
    },
    "tags": []
   },
   "outputs": [
    {
     "data": {
      "text/plain": [
       "index                       1000\n",
       "Patient Id                  1000\n",
       "Age                         1000\n",
       "Gender                      1000\n",
       "Air Pollution               1000\n",
       "Alcohol use                 1000\n",
       "Dust Allergy                1000\n",
       "OccuPational Hazards        1000\n",
       "Genetic Risk                1000\n",
       "chronic Lung Disease        1000\n",
       "Balanced Diet               1000\n",
       "Obesity                     1000\n",
       "Smoking                     1000\n",
       "Passive Smoker              1000\n",
       "Chest Pain                  1000\n",
       "Coughing of Blood           1000\n",
       "Fatigue                     1000\n",
       "Weight Loss                 1000\n",
       "Shortness of Breath         1000\n",
       "Wheezing                    1000\n",
       "Swallowing Difficulty       1000\n",
       "Clubbing of Finger Nails    1000\n",
       "Frequent Cold               1000\n",
       "Dry Cough                   1000\n",
       "Snoring                     1000\n",
       "Level                       1000\n",
       "dtype: int64"
      ]
     },
     "execution_count": 4,
     "metadata": {},
     "output_type": "execute_result"
    }
   ],
   "source": [
    "#Displaying Count of Dataset\n",
    "dataSet.count()"
   ]
  },
  {
   "cell_type": "code",
   "execution_count": 5,
   "id": "a43915bd",
   "metadata": {
    "execution": {
     "iopub.execute_input": "2023-06-23T00:44:58.326872Z",
     "iopub.status.busy": "2023-06-23T00:44:58.325990Z",
     "iopub.status.idle": "2023-06-23T00:44:58.336596Z",
     "shell.execute_reply": "2023-06-23T00:44:58.335456Z"
    },
    "papermill": {
     "duration": 0.030636,
     "end_time": "2023-06-23T00:44:58.339028",
     "exception": false,
     "start_time": "2023-06-23T00:44:58.308392",
     "status": "completed"
    },
    "tags": []
   },
   "outputs": [
    {
     "data": {
      "text/plain": [
       "index                       0\n",
       "Patient Id                  0\n",
       "Age                         0\n",
       "Gender                      0\n",
       "Air Pollution               0\n",
       "Alcohol use                 0\n",
       "Dust Allergy                0\n",
       "OccuPational Hazards        0\n",
       "Genetic Risk                0\n",
       "chronic Lung Disease        0\n",
       "Balanced Diet               0\n",
       "Obesity                     0\n",
       "Smoking                     0\n",
       "Passive Smoker              0\n",
       "Chest Pain                  0\n",
       "Coughing of Blood           0\n",
       "Fatigue                     0\n",
       "Weight Loss                 0\n",
       "Shortness of Breath         0\n",
       "Wheezing                    0\n",
       "Swallowing Difficulty       0\n",
       "Clubbing of Finger Nails    0\n",
       "Frequent Cold               0\n",
       "Dry Cough                   0\n",
       "Snoring                     0\n",
       "Level                       0\n",
       "dtype: int64"
      ]
     },
     "execution_count": 5,
     "metadata": {},
     "output_type": "execute_result"
    }
   ],
   "source": [
    "#Displaying count of null\n",
    "dataSet.isna().sum()"
   ]
  },
  {
   "cell_type": "code",
   "execution_count": 6,
   "id": "8cccebd0",
   "metadata": {
    "execution": {
     "iopub.execute_input": "2023-06-23T00:44:58.373672Z",
     "iopub.status.busy": "2023-06-23T00:44:58.373187Z",
     "iopub.status.idle": "2023-06-23T00:44:58.381537Z",
     "shell.execute_reply": "2023-06-23T00:44:58.380452Z"
    },
    "papermill": {
     "duration": 0.028738,
     "end_time": "2023-06-23T00:44:58.383847",
     "exception": false,
     "start_time": "2023-06-23T00:44:58.355109",
     "status": "completed"
    },
    "tags": []
   },
   "outputs": [],
   "source": [
    "#separate the independent(features) and dependent(class) variables\n",
    "features = dataSet.drop(['Patient Id', 'Level'], axis='columns')\n",
    "targetClass = dataSet['Level']"
   ]
  },
  {
   "cell_type": "code",
   "execution_count": 7,
   "id": "9a384615",
   "metadata": {
    "execution": {
     "iopub.execute_input": "2023-06-23T00:44:58.418111Z",
     "iopub.status.busy": "2023-06-23T00:44:58.417352Z",
     "iopub.status.idle": "2023-06-23T00:44:58.427616Z",
     "shell.execute_reply": "2023-06-23T00:44:58.426745Z"
    },
    "papermill": {
     "duration": 0.030522,
     "end_time": "2023-06-23T00:44:58.430261",
     "exception": false,
     "start_time": "2023-06-23T00:44:58.399739",
     "status": "completed"
    },
    "tags": []
   },
   "outputs": [],
   "source": [
    "# Feature Scaling for input features.\n",
    "from sklearn import preprocessing\n",
    "scaler = preprocessing.MinMaxScaler()\n",
    "feature_scaled = scaler.fit_transform(features)"
   ]
  },
  {
   "cell_type": "code",
   "execution_count": 8,
   "id": "fca2897c",
   "metadata": {
    "execution": {
     "iopub.execute_input": "2023-06-23T00:44:58.464588Z",
     "iopub.status.busy": "2023-06-23T00:44:58.463845Z",
     "iopub.status.idle": "2023-06-23T00:44:58.488054Z",
     "shell.execute_reply": "2023-06-23T00:44:58.486897Z"
    },
    "papermill": {
     "duration": 0.044782,
     "end_time": "2023-06-23T00:44:58.490898",
     "exception": false,
     "start_time": "2023-06-23T00:44:58.446116",
     "status": "completed"
    },
    "tags": []
   },
   "outputs": [],
   "source": [
    "#K-fold cross validation with 10 splits\n",
    "from sklearn.model_selection import StratifiedKFold\n",
    "skf = StratifiedKFold(n_splits=10, shuffle=True, random_state=1)"
   ]
  },
  {
   "cell_type": "code",
   "execution_count": 9,
   "id": "7c7c32e6",
   "metadata": {
    "execution": {
     "iopub.execute_input": "2023-06-23T00:44:58.526594Z",
     "iopub.status.busy": "2023-06-23T00:44:58.525844Z",
     "iopub.status.idle": "2023-06-23T00:44:58.532825Z",
     "shell.execute_reply": "2023-06-23T00:44:58.531679Z"
    },
    "papermill": {
     "duration": 0.027613,
     "end_time": "2023-06-23T00:44:58.535344",
     "exception": false,
     "start_time": "2023-06-23T00:44:58.507731",
     "status": "completed"
    },
    "tags": []
   },
   "outputs": [
    {
     "data": {
      "text/plain": [
       "Index(['index', 'Age', 'Gender', 'Air Pollution', 'Alcohol use',\n",
       "       'Dust Allergy', 'OccuPational Hazards', 'Genetic Risk',\n",
       "       'chronic Lung Disease', 'Balanced Diet', 'Obesity', 'Smoking',\n",
       "       'Passive Smoker', 'Chest Pain', 'Coughing of Blood', 'Fatigue',\n",
       "       'Weight Loss', 'Shortness of Breath', 'Wheezing',\n",
       "       'Swallowing Difficulty', 'Clubbing of Finger Nails', 'Frequent Cold',\n",
       "       'Dry Cough', 'Snoring'],\n",
       "      dtype='object')"
      ]
     },
     "execution_count": 9,
     "metadata": {},
     "output_type": "execute_result"
    }
   ],
   "source": [
    "# Get the labels of the features\n",
    "f_labels = features.columns\n",
    "f_labels"
   ]
  },
  {
   "cell_type": "code",
   "execution_count": 10,
   "id": "c00b2feb",
   "metadata": {
    "execution": {
     "iopub.execute_input": "2023-06-23T00:44:58.570793Z",
     "iopub.status.busy": "2023-06-23T00:44:58.570060Z",
     "iopub.status.idle": "2023-06-23T00:44:58.576556Z",
     "shell.execute_reply": "2023-06-23T00:44:58.575573Z"
    },
    "papermill": {
     "duration": 0.026728,
     "end_time": "2023-06-23T00:44:58.578875",
     "exception": false,
     "start_time": "2023-06-23T00:44:58.552147",
     "status": "completed"
    },
    "tags": []
   },
   "outputs": [
    {
     "data": {
      "text/plain": [
       "array(['Low', 'Medium', 'High'], dtype=object)"
      ]
     },
     "execution_count": 10,
     "metadata": {},
     "output_type": "execute_result"
    }
   ],
   "source": [
    "# Get the labels of the targetClass\n",
    "c_labels = targetClass.unique()\n",
    "c_labels"
   ]
  },
  {
   "cell_type": "code",
   "execution_count": 11,
   "id": "751865b8",
   "metadata": {
    "execution": {
     "iopub.execute_input": "2023-06-23T00:44:58.614775Z",
     "iopub.status.busy": "2023-06-23T00:44:58.614026Z",
     "iopub.status.idle": "2023-06-23T00:45:00.119416Z",
     "shell.execute_reply": "2023-06-23T00:45:00.118210Z"
    },
    "papermill": {
     "duration": 1.527424,
     "end_time": "2023-06-23T00:45:00.123331",
     "exception": false,
     "start_time": "2023-06-23T00:44:58.595907",
     "status": "completed"
    },
    "tags": []
   },
   "outputs": [
    {
     "data": {
      "image/png": "[encoded data removed]",
      "text/plain": [
       "<Figure size 1200x1200 with 1 Axes>"
      ]
     },
     "metadata": {},
     "output_type": "display_data"
    }
   ],
   "source": [
    "from sklearn import tree\n",
    "import matplotlib.pyplot as plt\n",
    "\n",
    "\n",
    "# Create a decision tree classifier\n",
    "dt_model = tree.DecisionTreeClassifier(criterion='entropy')\n",
    "\n",
    "# Train the classifier on the iris dataset\n",
    "dt_model = dt_model.fit(features, targetClass)\n",
    "\n",
    "# Plot the decision tree\n",
    "fig, ax = plt.subplots(figsize=(12, 12))\n",
    "tree.plot_tree(dt_model, filled=True, feature_names=f_labels, class_names=c_labels)\n",
    "ax.set_title(\"DECISION TREE\", fontsize=30, ha='center', va='center')\n",
    "plt.show()"
   ]
  },
  {
   "cell_type": "code",
   "execution_count": 12,
   "id": "d2f43cdd",
   "metadata": {
    "execution": {
     "iopub.execute_input": "2023-06-23T00:45:00.162761Z",
     "iopub.status.busy": "2023-06-23T00:45:00.162322Z",
     "iopub.status.idle": "2023-06-23T00:45:00.260237Z",
     "shell.execute_reply": "2023-06-23T00:45:00.258280Z"
    },
    "papermill": {
     "duration": 0.121047,
     "end_time": "2023-06-23T00:45:00.262937",
     "exception": false,
     "start_time": "2023-06-23T00:45:00.141890",
     "status": "completed"
    },
    "tags": []
   },
   "outputs": [
    {
     "name": "stdout",
     "output_type": "stream",
     "text": [
      "DECISION TREE MODEL K FOLD CROSS VALIDATION\n",
      "\n",
      "List of possible accuracy: [1.0, 1.0, 1.0, 1.0, 1.0, 1.0, 1.0, 1.0, 1.0, 1.0]\n",
      "\n",
      "Maximum Accuracy That can be obtained from this model is: 100.0 %\n",
      "\n",
      "Minimum Accuracy: 100.0 %\n",
      "\n",
      "Overall Accuracy: 100.0 %\n",
      "\n",
      "Standard Deviation is: 0.0\n"
     ]
    }
   ],
   "source": [
    "#K Fold Cross Validation\n",
    "\n",
    "dt_lst_accu_stratified = []\n",
    "dt_overall_cm = np.zeros((3, 3))\n",
    "for train_index, test_index in skf.split(features, targetClass):\n",
    "    x_train_fold, x_test_fold = feature_scaled[train_index], feature_scaled[test_index]\n",
    "    y_train_fold, y_test_fold = targetClass[train_index], targetClass[test_index]\n",
    "    \n",
    "    \n",
    "    dt_model.fit(x_train_fold, y_train_fold)\n",
    "    dt_lst_accu_stratified.append(dt_model.score(x_test_fold, y_test_fold))\n",
    "   \n",
    "    #Create the confusion matrix\n",
    "    dt_y_pred = dt_model.predict(x_test_fold)\n",
    "    cm = confusion_matrix(y_test_fold, dt_y_pred)\n",
    "    \n",
    "    dt_overall_cm += cm\n",
    "    \n",
    "# Print the output.\n",
    "print(\"DECISION TREE MODEL K FOLD CROSS VALIDATION\\n\")\n",
    "print('List of possible accuracy:', dt_lst_accu_stratified)\n",
    "print('\\nMaximum Accuracy That can be obtained from this model is:',\n",
    "      max(dt_lst_accu_stratified)*100, '%')\n",
    "print('\\nMinimum Accuracy:',\n",
    "      min(dt_lst_accu_stratified)*100, '%')\n",
    "print('\\nOverall Accuracy:',\n",
    "      mean(dt_lst_accu_stratified)*100, '%')\n",
    "print('\\nStandard Deviation is:', stdev(dt_lst_accu_stratified))"
   ]
  },
  {
   "cell_type": "code",
   "execution_count": 13,
   "id": "c7c04a46",
   "metadata": {
    "execution": {
     "iopub.execute_input": "2023-06-23T00:45:00.302678Z",
     "iopub.status.busy": "2023-06-23T00:45:00.301765Z",
     "iopub.status.idle": "2023-06-23T00:45:00.308778Z",
     "shell.execute_reply": "2023-06-23T00:45:00.307442Z"
    },
    "papermill": {
     "duration": 0.030083,
     "end_time": "2023-06-23T00:45:00.311705",
     "exception": false,
     "start_time": "2023-06-23T00:45:00.281622",
     "status": "completed"
    },
    "tags": []
   },
   "outputs": [
    {
     "name": "stdout",
     "output_type": "stream",
     "text": [
      "Overall Confusion Matrix:\n",
      "[[365.   0.   0.]\n",
      " [  0. 303.   0.]\n",
      " [  0.   0. 332.]]\n"
     ]
    }
   ],
   "source": [
    "# Print the overall confusion matrix\n",
    "print(\"Overall Confusion Matrix:\")\n",
    "print(dt_overall_cm)"
   ]
  },
  {
   "cell_type": "code",
   "execution_count": 14,
   "id": "502daca6",
   "metadata": {
    "execution": {
     "iopub.execute_input": "2023-06-23T00:45:00.351304Z",
     "iopub.status.busy": "2023-06-23T00:45:00.350767Z",
     "iopub.status.idle": "2023-06-23T00:45:00.362780Z",
     "shell.execute_reply": "2023-06-23T00:45:00.361851Z"
    },
    "papermill": {
     "duration": 0.034783,
     "end_time": "2023-06-23T00:45:00.365055",
     "exception": false,
     "start_time": "2023-06-23T00:45:00.330272",
     "status": "completed"
    },
    "tags": []
   },
   "outputs": [],
   "source": [
    "#Calculating the performance scores\n",
    "dt_tp1, dt_tp2, dt_tp3 = 365, 303, 332\n",
    "dt_fp1, dt_fp2, dt_fp3 = 0, 0, 0\n",
    "dt_tn1, dt_tn2, dt_tn3 = 635, 697, 668\n",
    "dt_fn1, dt_fn2, dt_fn3 = 0, 0, 0\n",
    "\n",
    "dt_tp = dt_tp1 + dt_tp2 + dt_tp3\n",
    "dt_fp = dt_fp1 + dt_fp2 + dt_fp3\n",
    "dt_tn = dt_tn1 + dt_tn2 + dt_tn3\n",
    "dt_fn = dt_fn1 + dt_fn2 + dt_fn3\n",
    "\n",
    "\n",
    "dt_accuracy = (dt_tp + dt_tn) / (dt_tp + dt_tn + dt_fp + dt_fn)\n",
    "\n",
    "dt_precision_class1 = dt_tp1 / (dt_tp1 + dt_fp1)\n",
    "dt_precision_class2 = dt_tp2 / (dt_tp2 + dt_fp2)\n",
    "dt_precision_class3 = dt_tp3 / (dt_tp3 + dt_fp3)\n",
    "dt_precision_average = (dt_precision_class1 + dt_precision_class2 + dt_precision_class3) / 3\n",
    "\n",
    "dt_recall_class1 = dt_tp1 / (dt_tp1 + dt_fn1)\n",
    "dt_recall_class2 = dt_tp2 / (dt_tp2 + dt_fn2)\n",
    "dt_recall_class3 = dt_tp3 / (dt_tp3 + dt_fn3)\n",
    "dt_recall_average = (dt_recall_class1 + dt_recall_class2 + dt_recall_class3) / 3\n",
    "\n",
    "dt_specificity_class1 = dt_tn1 / ( dt_fp1 + dt_tn1 )\n",
    "dt_specificity_class2 = dt_tn2 / ( dt_fp2 + dt_tn2 )\n",
    "dt_specificity_class3 = dt_tn3 / ( dt_fp3 + dt_tn3 )\n",
    "dt_specificity_average = (dt_specificity_class1 + dt_specificity_class2 + dt_specificity_class3) / 3\n",
    "\n",
    "dt_sensitivity_class1 = dt_tp1 / (dt_tp1 + dt_fn1)\n",
    "dt_sensitivity_class2 = dt_tp2 / (dt_tp2 + dt_fn2)\n",
    "dt_sensitivity_class3 = dt_tp3 / (dt_tp3 + dt_fn3)\n",
    "dt_sensitivity_average = (dt_sensitivity_class1 + dt_sensitivity_class2 + dt_sensitivity_class3) / 3\n",
    "\n",
    "dt_f1 = 2 * (dt_precision_average * dt_recall_average) / (dt_precision_average + dt_recall_average)"
   ]
  },
  {
   "cell_type": "code",
   "execution_count": 15,
   "id": "50796366",
   "metadata": {
    "execution": {
     "iopub.execute_input": "2023-06-23T00:45:00.405274Z",
     "iopub.status.busy": "2023-06-23T00:45:00.404579Z",
     "iopub.status.idle": "2023-06-23T00:45:00.676561Z",
     "shell.execute_reply": "2023-06-23T00:45:00.675345Z"
    },
    "papermill": {
     "duration": 0.295282,
     "end_time": "2023-06-23T00:45:00.679396",
     "exception": false,
     "start_time": "2023-06-23T00:45:00.384114",
     "status": "completed"
    },
    "tags": []
   },
   "outputs": [
    {
     "data": {
      "image/png": "[encoded data removed]",
      "text/plain": [
       "<Figure size 640x480 with 1 Axes>"
      ]
     },
     "metadata": {},
     "output_type": "display_data"
    },
    {
     "name": "stdout",
     "output_type": "stream",
     "text": [
      "Accuracy: 100.0%\n",
      "Precision: 100.0%\n",
      "Recall: 100.0%\n",
      "Specificity: 100.0%\n",
      "Sensitivity: 100.0%\n",
      "F1-score: 100.0%\n"
     ]
    }
   ],
   "source": [
    "#Plot the performance scores\n",
    "dt_f1 = 2 * (dt_precision_average * dt_recall_average) / (dt_precision_average + dt_recall_average)\n",
    "scores_label = ['Accuracy', 'Precision', 'Recall', 'Specificity', 'Sensitivity', 'F1-score']\n",
    "scores_values = [dt_accuracy,dt_precision_average, dt_recall_average, dt_specificity_average,dt_sensitivity_average, dt_f1]\n",
    "\n",
    "plt.bar(scores_label, scores_values)\n",
    "plt.ylim([0, 1])\n",
    "plt.ylabel('Score')\n",
    "plt.title('DT Performance Metrics')\n",
    "\n",
    "# Show the plot\n",
    "plt.show()\n",
    "i=0\n",
    "for x in scores_label:\n",
    "    print(f'{x}: {scores_values[i] *100}%')\n",
    "    i+=1"
   ]
  },
  {
   "cell_type": "markdown",
   "id": "480de1a1",
   "metadata": {
    "papermill": {
     "duration": 0.018694,
     "end_time": "2023-06-23T00:45:00.717174",
     "exception": false,
     "start_time": "2023-06-23T00:45:00.698480",
     "status": "completed"
    },
    "tags": []
   },
   "source": [
    "# \n",
    "# \n",
    "# **NAIVE BAYES**"
   ]
  },
  {
   "cell_type": "code",
   "execution_count": 16,
   "id": "1a33e419",
   "metadata": {
    "execution": {
     "iopub.execute_input": "2023-06-23T00:45:00.757554Z",
     "iopub.status.busy": "2023-06-23T00:45:00.757059Z",
     "iopub.status.idle": "2023-06-23T00:45:00.772109Z",
     "shell.execute_reply": "2023-06-23T00:45:00.770926Z"
    },
    "papermill": {
     "duration": 0.038743,
     "end_time": "2023-06-23T00:45:00.775039",
     "exception": false,
     "start_time": "2023-06-23T00:45:00.736296",
     "status": "completed"
    },
    "tags": []
   },
   "outputs": [],
   "source": [
    "from sklearn.naive_bayes import GaussianNB\n",
    "\n",
    "nb =  GaussianNB()"
   ]
  },
  {
   "cell_type": "code",
   "execution_count": 17,
   "id": "55a79b09",
   "metadata": {
    "execution": {
     "iopub.execute_input": "2023-06-23T00:45:00.815874Z",
     "iopub.status.busy": "2023-06-23T00:45:00.815130Z",
     "iopub.status.idle": "2023-06-23T00:45:00.900818Z",
     "shell.execute_reply": "2023-06-23T00:45:00.899661Z"
    },
    "papermill": {
     "duration": 0.10902,
     "end_time": "2023-06-23T00:45:00.903486",
     "exception": false,
     "start_time": "2023-06-23T00:45:00.794466",
     "status": "completed"
    },
    "tags": []
   },
   "outputs": [
    {
     "name": "stdout",
     "output_type": "stream",
     "text": [
      "NAIVE BAYES MODEL K FOLD CROSS VALIDATION\n",
      "\n",
      "List of possible accuracy: [0.86, 0.95, 0.93, 0.84, 0.92, 0.85, 0.88, 0.9, 0.86, 0.91]\n",
      "\n",
      "Maximum Accuracy That can be obtained from this model is: 95.0 %\n",
      "\n",
      "Minimum Accuracy: 84.0 %\n",
      "\n",
      "Overall Accuracy: 89.0 %\n",
      "\n",
      "Standard Deviation is: 0.03741657386773943\n"
     ]
    }
   ],
   "source": [
    "#K Fold Cross Validation\n",
    "\n",
    "nb_lst_accu_stratified = []\n",
    "nb_overall_cm = np.zeros((3, 3))\n",
    "for train_index, test_index in skf.split(features, targetClass):\n",
    "    x_train_fold, x_test_fold = feature_scaled[train_index], feature_scaled[test_index]\n",
    "    y_train_fold, y_test_fold = targetClass[train_index], targetClass[test_index]\n",
    "    \n",
    "    #Train the model using the Training Data\n",
    "    nb.fit(x_train_fold, y_train_fold)\n",
    "    nb_lst_accu_stratified.append(nb.score(x_test_fold, y_test_fold))\n",
    "    \n",
    "    #Create the confusion matrix\n",
    "    nb_y_pred = nb.predict(x_test_fold)\n",
    "    cm = confusion_matrix(y_test_fold, nb_y_pred)\n",
    "    \n",
    "    nb_overall_cm += cm\n",
    "\n",
    "# Print the output.\n",
    "print(\"NAIVE BAYES MODEL K FOLD CROSS VALIDATION\\n\")\n",
    "print('List of possible accuracy:', nb_lst_accu_stratified)\n",
    "print('\\nMaximum Accuracy That can be obtained from this model is:',\n",
    "      max(nb_lst_accu_stratified)*100, '%')\n",
    "print('\\nMinimum Accuracy:',\n",
    "      min(nb_lst_accu_stratified)*100, '%')\n",
    "print('\\nOverall Accuracy:',\n",
    "      mean(nb_lst_accu_stratified)*100, '%')\n",
    "print('\\nStandard Deviation is:', stdev(nb_lst_accu_stratified))"
   ]
  },
  {
   "cell_type": "code",
   "execution_count": 18,
   "id": "f56fd94f",
   "metadata": {
    "execution": {
     "iopub.execute_input": "2023-06-23T00:45:00.944651Z",
     "iopub.status.busy": "2023-06-23T00:45:00.943862Z",
     "iopub.status.idle": "2023-06-23T00:45:00.950195Z",
     "shell.execute_reply": "2023-06-23T00:45:00.948893Z"
    },
    "papermill": {
     "duration": 0.030122,
     "end_time": "2023-06-23T00:45:00.953065",
     "exception": false,
     "start_time": "2023-06-23T00:45:00.922943",
     "status": "completed"
    },
    "tags": []
   },
   "outputs": [
    {
     "name": "stdout",
     "output_type": "stream",
     "text": [
      "Overall Confusion Matrix:\n",
      "[[345.   0.  20.]\n",
      " [ 10. 273.  20.]\n",
      " [ 60.   0. 272.]]\n"
     ]
    }
   ],
   "source": [
    "# Print the overall confusion matrix\n",
    "print(\"Overall Confusion Matrix:\")\n",
    "print(nb_overall_cm)\n"
   ]
  },
  {
   "cell_type": "code",
   "execution_count": 19,
   "id": "3d590590",
   "metadata": {
    "execution": {
     "iopub.execute_input": "2023-06-23T00:45:00.994873Z",
     "iopub.status.busy": "2023-06-23T00:45:00.993718Z",
     "iopub.status.idle": "2023-06-23T00:45:01.006264Z",
     "shell.execute_reply": "2023-06-23T00:45:01.004930Z"
    },
    "papermill": {
     "duration": 0.036621,
     "end_time": "2023-06-23T00:45:01.009374",
     "exception": false,
     "start_time": "2023-06-23T00:45:00.972753",
     "status": "completed"
    },
    "tags": []
   },
   "outputs": [],
   "source": [
    "#Calculating the performance scores\n",
    "nb_tp1, nb_tp2, nb_tp3 = 345, 273, 272\n",
    "nb_fp1, nb_fp2, nb_fp3 = 70, 0, 40\n",
    "nb_tn1, nb_tn2, nb_tn3 = 545, 617, 618\n",
    "nb_fn1, nb_fn2, nb_fn3 = 20, 30, 60\n",
    "\n",
    "nb_tp = nb_tp1 + nb_tp2 + nb_tp3\n",
    "nb_fp = nb_fp1 + nb_fp2 + nb_fp3\n",
    "nb_tn = nb_tn1 + nb_tn2 + nb_tn3\n",
    "nb_fn = nb_fn1 + nb_fn2 + nb_fn3\n",
    "\n",
    "\n",
    "nb_accuracy = (nb_tp + nb_tn) / (nb_tp + nb_tn + nb_fp + nb_fn)\n",
    "\n",
    "nb_precision_class1 = nb_tp1 / (nb_tp1 + nb_fp1)\n",
    "nb_precision_class2 = nb_tp2 / (nb_tp2 + nb_fp2)\n",
    "nb_precision_class3 = nb_tp3 / (nb_tp3 + nb_fp3)\n",
    "nb_precision_average = (nb_precision_class1 + nb_precision_class2 + nb_precision_class3) / 3\n",
    "\n",
    "nb_recall_class1 = nb_tp1 / (nb_tp1 + nb_fn1)\n",
    "nb_recall_class2 = nb_tp2 / (nb_tp2 + nb_fn2)\n",
    "nb_recall_class3 = nb_tp3 / (nb_tp3 + nb_fn3)\n",
    "nb_recall_average = (nb_recall_class1 + nb_recall_class2 + nb_recall_class3) / 3\n",
    "\n",
    "nb_specificity_class1 = nb_tn1 / ( nb_fp1 + nb_tn1 )\n",
    "nb_specificity_class2 = nb_tn2 / ( nb_fp2 + nb_tn2 )\n",
    "nb_specificity_class3 = nb_tn3 / ( nb_fp3 + nb_tn3 )\n",
    "nb_specificity_average = (nb_specificity_class1 + nb_specificity_class2 + nb_specificity_class3) / 3\n",
    "\n",
    "nb_sensitivity_class1 = nb_tp1 / (nb_tp1 + nb_fn1)\n",
    "nb_sensitivity_class2 = nb_tp2 / (nb_tp2 + nb_fn2)\n",
    "nb_sensitivity_class3 = nb_tp3 / (nb_tp3 + nb_fn3)\n",
    "nb_sensitivity_average = (nb_sensitivity_class1 + nb_sensitivity_class2 + nb_sensitivity_class3) / 3\n",
    "\n",
    "nb_f1 = 2 * (nb_precision_average * nb_recall_average) / (nb_precision_average + nb_recall_average)"
   ]
  },
  {
   "cell_type": "code",
   "execution_count": 20,
   "id": "037c899e",
   "metadata": {
    "execution": {
     "iopub.execute_input": "2023-06-23T00:45:01.051351Z",
     "iopub.status.busy": "2023-06-23T00:45:01.050882Z",
     "iopub.status.idle": "2023-06-23T00:45:01.331931Z",
     "shell.execute_reply": "2023-06-23T00:45:01.330867Z"
    },
    "papermill": {
     "duration": 0.305373,
     "end_time": "2023-06-23T00:45:01.334303",
     "exception": false,
     "start_time": "2023-06-23T00:45:01.028930",
     "status": "completed"
    },
    "tags": []
   },
   "outputs": [
    {
     "data": {
      "image/png": "[encoded data removed]",
      "text/plain": [
       "<Figure size 640x480 with 1 Axes>"
      ]
     },
     "metadata": {},
     "output_type": "display_data"
    },
    {
     "name": "stdout",
     "output_type": "stream",
     "text": [
      "Accuracy: 92.38754325259517%\n",
      "Precision: 90.10400576665637%\n",
      "Recall: 88.8490895631897%\n",
      "Specificity: 94.17961960774623%\n",
      "Sensitivity: 88.8490895631897%\n",
      "F1-score: 89.4721475882582%\n"
     ]
    }
   ],
   "source": [
    "#Plot the performance scores\n",
    "scores_label = ['Accuracy', 'Precision', 'Recall', 'Specificity', 'Sensitivity', 'F1-score']\n",
    "scores_values = [nb_accuracy,nb_precision_average, nb_recall_average, nb_specificity_average,nb_sensitivity_average, nb_f1]\n",
    "\n",
    "plt.bar(scores_label, scores_values)\n",
    "plt.ylim([0, 1])\n",
    "plt.ylabel('Score')\n",
    "plt.title('NB Performance Metrics')\n",
    "\n",
    "# Show the plot\n",
    "plt.show()\n",
    "i=0\n",
    "for x in scores_label:\n",
    "    print(f'{x}: {scores_values[i] *100}%')\n",
    "    i+=1"
   ]
  },
  {
   "cell_type": "markdown",
   "id": "dd9ebdbc",
   "metadata": {
    "papermill": {
     "duration": 0.01954,
     "end_time": "2023-06-23T00:45:01.373781",
     "exception": false,
     "start_time": "2023-06-23T00:45:01.354241",
     "status": "completed"
    },
    "tags": []
   },
   "source": [
    "# \n",
    "# \n",
    "# **REGULARIZED LOGISTIC REGRESSION**"
   ]
  },
  {
   "cell_type": "code",
   "execution_count": 21,
   "id": "cfadcb68",
   "metadata": {
    "execution": {
     "iopub.execute_input": "2023-06-23T00:45:01.418895Z",
     "iopub.status.busy": "2023-06-23T00:45:01.418392Z",
     "iopub.status.idle": "2023-06-23T00:45:01.423456Z",
     "shell.execute_reply": "2023-06-23T00:45:01.422619Z"
    },
    "papermill": {
     "duration": 0.031851,
     "end_time": "2023-06-23T00:45:01.425662",
     "exception": false,
     "start_time": "2023-06-23T00:45:01.393811",
     "status": "completed"
    },
    "tags": []
   },
   "outputs": [],
   "source": [
    "from sklearn.linear_model import LogisticRegression\n",
    "\n",
    "#Create a Regularized Logistic Regression Model\n",
    "rlr_model = LogisticRegression(C=0.01, penalty='l1', solver='liblinear')"
   ]
  },
  {
   "cell_type": "code",
   "execution_count": 22,
   "id": "a394d23f",
   "metadata": {
    "execution": {
     "iopub.execute_input": "2023-06-23T00:45:01.467783Z",
     "iopub.status.busy": "2023-06-23T00:45:01.466966Z",
     "iopub.status.idle": "2023-06-23T00:45:01.584374Z",
     "shell.execute_reply": "2023-06-23T00:45:01.583177Z"
    },
    "papermill": {
     "duration": 0.141475,
     "end_time": "2023-06-23T00:45:01.587108",
     "exception": false,
     "start_time": "2023-06-23T00:45:01.445633",
     "status": "completed"
    },
    "tags": []
   },
   "outputs": [
    {
     "name": "stdout",
     "output_type": "stream",
     "text": [
      "REGULARIZED LOGISTIC REGRESSION MODEL K FOLD CROSS VALIDATION\n",
      "\n",
      "List of possible accuracy: [0.43, 0.4, 0.44, 0.4, 0.42, 0.41, 0.45, 0.56, 0.59, 0.61]\n",
      "\n",
      "Maximum Accuracy That can be obtained from this model is: 61.0 %\n",
      "\n",
      "Minimum Accuracy: 40.0 %\n",
      "\n",
      "Overall Accuracy: 47.099999999999994 %\n",
      "\n",
      "Standard Deviation is: 0.0822529972435993\n"
     ]
    }
   ],
   "source": [
    "#K Fold Cross Validation\n",
    "\n",
    "rlr_lst_accu_stratified = []\n",
    "rlr_overall_cm = np.zeros((3, 3))\n",
    "for train_index, test_index in skf.split(features, targetClass):\n",
    "    x_train_fold, x_test_fold = feature_scaled[train_index], feature_scaled[test_index]\n",
    "    y_train_fold, y_test_fold = targetClass[train_index], targetClass[test_index]\n",
    "    \n",
    "    #Train the model using the Training Data\n",
    "    rlr_model.fit(x_train_fold, y_train_fold)\n",
    "    rlr_lst_accu_stratified.append(rlr_model.score(x_test_fold, y_test_fold))\n",
    "    \n",
    "    #Create the confusion matrix\n",
    "    rlr_y_pred = rlr_model.predict(x_test_fold)\n",
    "    cm = confusion_matrix(y_test_fold, rlr_y_pred)\n",
    "    \n",
    "    rlr_overall_cm += cm\n",
    "    \n",
    "# Print the output.\n",
    "print(\"REGULARIZED LOGISTIC REGRESSION MODEL K FOLD CROSS VALIDATION\\n\")\n",
    "print('List of possible accuracy:', rlr_lst_accu_stratified)\n",
    "print('\\nMaximum Accuracy That can be obtained from this model is:',\n",
    "      max(rlr_lst_accu_stratified)*100, '%')\n",
    "print('\\nMinimum Accuracy:',\n",
    "      min(rlr_lst_accu_stratified)*100, '%')\n",
    "print('\\nOverall Accuracy:',\n",
    "      mean(rlr_lst_accu_stratified)*100, '%')\n",
    "print('\\nStandard Deviation is:', stdev(rlr_lst_accu_stratified))"
   ]
  },
  {
   "cell_type": "code",
   "execution_count": 23,
   "id": "99d48af2",
   "metadata": {
    "execution": {
     "iopub.execute_input": "2023-06-23T00:45:01.629281Z",
     "iopub.status.busy": "2023-06-23T00:45:01.628847Z",
     "iopub.status.idle": "2023-06-23T00:45:01.634857Z",
     "shell.execute_reply": "2023-06-23T00:45:01.633722Z"
    },
    "papermill": {
     "duration": 0.030862,
     "end_time": "2023-06-23T00:45:01.638089",
     "exception": false,
     "start_time": "2023-06-23T00:45:01.607227",
     "status": "completed"
    },
    "tags": []
   },
   "outputs": [
    {
     "name": "stdout",
     "output_type": "stream",
     "text": [
      "Overall Confusion Matrix:\n",
      "[[365.   0.   0.]\n",
      " [233.  70.   0.]\n",
      " [296.   0.  36.]]\n"
     ]
    }
   ],
   "source": [
    "# Print the overall confusion matrix\n",
    "print(\"Overall Confusion Matrix:\")\n",
    "print(rlr_overall_cm)"
   ]
  },
  {
   "cell_type": "code",
   "execution_count": 24,
   "id": "9a06ab44",
   "metadata": {
    "execution": {
     "iopub.execute_input": "2023-06-23T00:45:01.680043Z",
     "iopub.status.busy": "2023-06-23T00:45:01.679610Z",
     "iopub.status.idle": "2023-06-23T00:45:01.692222Z",
     "shell.execute_reply": "2023-06-23T00:45:01.691042Z"
    },
    "papermill": {
     "duration": 0.036836,
     "end_time": "2023-06-23T00:45:01.694825",
     "exception": false,
     "start_time": "2023-06-23T00:45:01.657989",
     "status": "completed"
    },
    "tags": []
   },
   "outputs": [],
   "source": [
    "#Calculating the performance scores\n",
    "rlr_tp1, rlr_tp2, rlr_tp3 = 365, 70, 36\n",
    "rlr_fp1, rlr_fp2, rlr_fp3 = 529, 0, 0\n",
    "rlr_tn1, rlr_tn2, rlr_tn3 = 106, 401, 435\n",
    "rlr_fn1, rlr_fn2, rlr_fn3 = 0, 233, 296\n",
    "\n",
    "rlr_tp = rlr_tp1 + rlr_tp2 + rlr_tp3\n",
    "rlr_fp = rlr_fp1 + rlr_fp2 + rlr_fp3\n",
    "rlr_tn = rlr_tn1 + rlr_tn2 + rlr_tn3\n",
    "rlr_fn = rlr_fn1 + rlr_fn2 + rlr_fn3\n",
    "\n",
    "\n",
    "rlr_accuracy = (rlr_tp + rlr_tn) / (rlr_tp + rlr_tn + rlr_fp + rlr_fn)\n",
    "\n",
    "rlr_precision_class1 = rlr_tp1 / (rlr_tp1 + rlr_fp1)\n",
    "rlr_precision_class2 = rlr_tp2 / (rlr_tp2 + rlr_fp2)\n",
    "rlr_precision_class3 = rlr_tp3 / (rlr_tp3 + rlr_fp3)\n",
    "rlr_precision_average = (rlr_precision_class1 + rlr_precision_class2 + rlr_precision_class3) / 3\n",
    "\n",
    "rlr_recall_class1 = rlr_tp1 / (rlr_tp1 + rlr_fn1)\n",
    "rlr_recall_class2 = rlr_tp2 / (rlr_tp2 + rlr_fn2)\n",
    "rlr_recall_class3 = rlr_tp3 / (rlr_tp3 + rlr_fn3)\n",
    "rlr_recall_average = (rlr_recall_class1 + rlr_recall_class2 + rlr_recall_class3) / 3\n",
    "\n",
    "rlr_specificity_class1 = rlr_tn1 / ( rlr_fp1 + rlr_tn1 )\n",
    "rlr_specificity_class2 = rlr_tn2 / ( rlr_fp2 + rlr_tn2 )\n",
    "rlr_specificity_class3 = rlr_tn3 / ( rlr_fp3 + rlr_tn3 )\n",
    "rlr_specificity_average = (rlr_specificity_class1 + rlr_specificity_class2 + rlr_specificity_class3) / 3\n",
    "\n",
    "rlr_sensitivity_class1 = rlr_tp1 / (rlr_tp1 + rlr_fn1)\n",
    "rlr_sensitivity_class2 = rlr_tp2 / (rlr_tp2 + rlr_fn2)\n",
    "rlr_sensitivity_class3 = rlr_tp3 / (rlr_tp3 + rlr_fn3)\n",
    "rlr_sensitivity_average = (rlr_sensitivity_class1 + rlr_sensitivity_class2 + rlr_sensitivity_class3) / 3\n",
    "\n",
    "rlr_f1 = 2 * (rlr_precision_average * rlr_recall_average) / (rlr_precision_average + rlr_recall_average)"
   ]
  },
  {
   "cell_type": "code",
   "execution_count": 25,
   "id": "9b23e7c6",
   "metadata": {
    "execution": {
     "iopub.execute_input": "2023-06-23T00:45:01.737463Z",
     "iopub.status.busy": "2023-06-23T00:45:01.736994Z",
     "iopub.status.idle": "2023-06-23T00:45:01.962843Z",
     "shell.execute_reply": "2023-06-23T00:45:01.961412Z"
    },
    "papermill": {
     "duration": 0.251037,
     "end_time": "2023-06-23T00:45:01.965982",
     "exception": false,
     "start_time": "2023-06-23T00:45:01.714945",
     "status": "completed"
    },
    "tags": []
   },
   "outputs": [
    {
     "data": {
      "image/png": "[encoded data removed]",
      "text/plain": [
       "<Figure size 640x480 with 1 Axes>"
      ]
     },
     "metadata": {},
     "output_type": "display_data"
    },
    {
     "name": "stdout",
     "output_type": "stream",
     "text": [
      "Accuracy: 57.18332658842574%\n",
      "Precision: 80.27591349739001%\n",
      "Recall: 44.648561241666336%\n",
      "Specificity: 72.23097112860893%\n",
      "Sensitivity: 44.648561241666336%\n",
      "F1-score: 57.38193492517223%\n"
     ]
    }
   ],
   "source": [
    "#Plot the performance scores\n",
    "\n",
    "scores_label = ['Accuracy', 'Precision', 'Recall', 'Specificity', 'Sensitivity', 'F1-score']\n",
    "scores_values = [rlr_accuracy,rlr_precision_average,rlr_recall_average, rlr_specificity_average,rlr_sensitivity_average, rlr_f1]\n",
    "\n",
    "plt.bar(scores_label, scores_values)\n",
    "plt.ylim([0, 1])\n",
    "plt.ylabel('Score')\n",
    "plt.title('RLR Performance Metrics')\n",
    "\n",
    "# Show the plot\n",
    "plt.show()\n",
    "i=0\n",
    "for x in scores_label:\n",
    "    print(f'{x}: {scores_values[i] *100}%')\n",
    "    i+=1"
   ]
  },
  {
   "cell_type": "markdown",
   "id": "2291af6e",
   "metadata": {
    "papermill": {
     "duration": 0.020078,
     "end_time": "2023-06-23T00:45:02.006695",
     "exception": false,
     "start_time": "2023-06-23T00:45:01.986617",
     "status": "completed"
    },
    "tags": []
   },
   "source": [
    "# \n",
    "# \n",
    "# **SUPPORT VECTOR MACHINE**"
   ]
  },
  {
   "cell_type": "code",
   "execution_count": 26,
   "id": "80f45d23",
   "metadata": {
    "execution": {
     "iopub.execute_input": "2023-06-23T00:45:02.052801Z",
     "iopub.status.busy": "2023-06-23T00:45:02.052314Z",
     "iopub.status.idle": "2023-06-23T00:45:02.058303Z",
     "shell.execute_reply": "2023-06-23T00:45:02.057130Z"
    },
    "papermill": {
     "duration": 0.032513,
     "end_time": "2023-06-23T00:45:02.060861",
     "exception": false,
     "start_time": "2023-06-23T00:45:02.028348",
     "status": "completed"
    },
    "tags": []
   },
   "outputs": [],
   "source": [
    "from sklearn.svm import SVC\n",
    "\n",
    "#Create a model for Support Vector Machine\n",
    "svm_model = SVC(kernel ='linear')"
   ]
  },
  {
   "cell_type": "code",
   "execution_count": 27,
   "id": "4b0c6b71",
   "metadata": {
    "execution": {
     "iopub.execute_input": "2023-06-23T00:45:02.104597Z",
     "iopub.status.busy": "2023-06-23T00:45:02.104107Z",
     "iopub.status.idle": "2023-06-23T00:45:02.281480Z",
     "shell.execute_reply": "2023-06-23T00:45:02.280323Z"
    },
    "papermill": {
     "duration": 0.20273,
     "end_time": "2023-06-23T00:45:02.284662",
     "exception": false,
     "start_time": "2023-06-23T00:45:02.081932",
     "status": "completed"
    },
    "tags": []
   },
   "outputs": [
    {
     "name": "stdout",
     "output_type": "stream",
     "text": [
      "SUPPORT VECTOR MACHINE MODEL K FOLD CROSS VALIDATION\n",
      "\n",
      "List of possible accuracy: [1.0, 1.0, 1.0, 1.0, 1.0, 1.0, 1.0, 1.0, 1.0, 1.0]\n",
      "\n",
      "Maximum Accuracy That can be obtained from this model is: 100.0 %\n",
      "\n",
      "Minimum Accuracy: 100.0 %\n",
      "\n",
      "Overall Accuracy: 100.0 %\n",
      "\n",
      "Standard Deviation is: 0.0\n"
     ]
    }
   ],
   "source": [
    "#K Fold Cross Validation\n",
    "\n",
    "svm_lst_accu_stratified = []\n",
    "svm_overall_cm = np.zeros((3, 3))\n",
    "for train_index, test_index in skf.split(features, targetClass):\n",
    "    x_train_fold, x_test_fold = feature_scaled[train_index], feature_scaled[test_index]\n",
    "    y_train_fold, y_test_fold = targetClass[train_index], targetClass[test_index]\n",
    "    \n",
    "    #Train the model using the Training Data\n",
    "    svm_model.fit(x_train_fold, y_train_fold)\n",
    "    svm_lst_accu_stratified.append(svm_model.score(x_test_fold, y_test_fold))\n",
    "    \n",
    "    #Create the confusion matrix\n",
    "    svm_y_pred = svm_model.predict(x_test_fold)\n",
    "    cm = confusion_matrix(y_test_fold, svm_y_pred)\n",
    "    \n",
    "    svm_overall_cm += cm\n",
    "    \n",
    "# Print the output.\n",
    "print(\"SUPPORT VECTOR MACHINE MODEL K FOLD CROSS VALIDATION\\n\")\n",
    "print('List of possible accuracy:', svm_lst_accu_stratified)\n",
    "print('\\nMaximum Accuracy That can be obtained from this model is:',\n",
    "      max(svm_lst_accu_stratified)*100, '%')\n",
    "print('\\nMinimum Accuracy:',\n",
    "      min(svm_lst_accu_stratified)*100, '%')\n",
    "print('\\nOverall Accuracy:',\n",
    "      mean(svm_lst_accu_stratified)*100, '%')\n",
    "print('\\nStandard Deviation is:', stdev(svm_lst_accu_stratified))"
   ]
  },
  {
   "cell_type": "code",
   "execution_count": 28,
   "id": "51a3029d",
   "metadata": {
    "execution": {
     "iopub.execute_input": "2023-06-23T00:45:02.328698Z",
     "iopub.status.busy": "2023-06-23T00:45:02.327403Z",
     "iopub.status.idle": "2023-06-23T00:45:02.334804Z",
     "shell.execute_reply": "2023-06-23T00:45:02.333590Z"
    },
    "papermill": {
     "duration": 0.031838,
     "end_time": "2023-06-23T00:45:02.337107",
     "exception": false,
     "start_time": "2023-06-23T00:45:02.305269",
     "status": "completed"
    },
    "tags": []
   },
   "outputs": [
    {
     "name": "stdout",
     "output_type": "stream",
     "text": [
      "Overall Confusion Matrix:\n",
      "[[365.   0.   0.]\n",
      " [  0. 303.   0.]\n",
      " [  0.   0. 332.]]\n"
     ]
    }
   ],
   "source": [
    "# Print the overall confusion matrix\n",
    "print(\"Overall Confusion Matrix:\")\n",
    "print(svm_overall_cm)"
   ]
  },
  {
   "cell_type": "code",
   "execution_count": 29,
   "id": "439d0253",
   "metadata": {
    "execution": {
     "iopub.execute_input": "2023-06-23T00:45:02.382378Z",
     "iopub.status.busy": "2023-06-23T00:45:02.381281Z",
     "iopub.status.idle": "2023-06-23T00:45:02.393457Z",
     "shell.execute_reply": "2023-06-23T00:45:02.392323Z"
    },
    "papermill": {
     "duration": 0.037823,
     "end_time": "2023-06-23T00:45:02.396057",
     "exception": false,
     "start_time": "2023-06-23T00:45:02.358234",
     "status": "completed"
    },
    "tags": []
   },
   "outputs": [],
   "source": [
    "#Calculating the performance scores\n",
    "svm_tp1, svm_tp2, svm_tp3 = 365, 303, 332\n",
    "svm_fp1, svm_fp2, svm_fp3 = 0, 0, 0\n",
    "svm_tn1, svm_tn2, svm_tn3 = 635, 697, 668\n",
    "svm_fn1, svm_fn2, svm_fn3 = 0, 0, 0\n",
    "\n",
    "svm_tp = svm_tp1 + svm_tp2 + svm_tp3\n",
    "svm_fp = svm_fp1 + svm_fp2 + svm_fp3\n",
    "svm_tn = svm_tn1 + svm_tn2 + svm_tn3\n",
    "svm_fn = svm_fn1 + svm_fn2 + svm_fn3\n",
    "\n",
    "\n",
    "svm_accuracy = (svm_tp + svm_tn) / (svm_tp + svm_tn + svm_fp + svm_fn)\n",
    "\n",
    "svm_precision_class1 = svm_tp1 / (svm_tp1 + svm_fp1)\n",
    "svm_precision_class2 = svm_tp2 / (svm_tp2 + svm_fp2)\n",
    "svm_precision_class3 = svm_tp3 / (svm_tp3 + svm_fp3)\n",
    "svm_precision_average = (svm_precision_class1 + svm_precision_class2 + svm_precision_class3) / 3\n",
    "\n",
    "svm_recall_class1 = svm_tp1 / (svm_tp1 + svm_fn1)\n",
    "svm_recall_class2 = svm_tp2 / (svm_tp2 + svm_fn2)\n",
    "svm_recall_class3 = svm_tp3 / (svm_tp3 + svm_fn3)\n",
    "svm_recall_average = (svm_recall_class1 + svm_recall_class2 + svm_recall_class3) / 3\n",
    "\n",
    "svm_specificity_class1 = svm_tn1 / ( svm_fp1 + svm_tn1 )\n",
    "svm_specificity_class2 = svm_tn2 / ( svm_fp2 + svm_tn2 )\n",
    "svm_specificity_class3 = svm_tn3 / ( svm_fp3 + svm_tn3 )\n",
    "svm_specificity_average = (svm_specificity_class1 + svm_specificity_class2 + svm_specificity_class3) / 3\n",
    "\n",
    "svm_sensitivity_class1 = svm_tp1 / (svm_tp1 + svm_fn1)\n",
    "svm_sensitivity_class2 = svm_tp2 / (svm_tp2 + svm_fn2)\n",
    "svm_sensitivity_class3 = svm_tp3 / (svm_tp3 + svm_fn3)\n",
    "svm_sensitivity_average = (svm_sensitivity_class1 + svm_sensitivity_class2 + svm_sensitivity_class3) / 3\n",
    "\n",
    "svm_f1 = 2 * (svm_precision_average * svm_recall_average) / (svm_precision_average + svm_recall_average)"
   ]
  },
  {
   "cell_type": "code",
   "execution_count": 30,
   "id": "2898127b",
   "metadata": {
    "execution": {
     "iopub.execute_input": "2023-06-23T00:45:02.439855Z",
     "iopub.status.busy": "2023-06-23T00:45:02.439374Z",
     "iopub.status.idle": "2023-06-23T00:45:02.712331Z",
     "shell.execute_reply": "2023-06-23T00:45:02.710991Z"
    },
    "papermill": {
     "duration": 0.299383,
     "end_time": "2023-06-23T00:45:02.716207",
     "exception": false,
     "start_time": "2023-06-23T00:45:02.416824",
     "status": "completed"
    },
    "tags": []
   },
   "outputs": [
    {
     "data": {
      "image/png": "[encoded data removed]",
      "text/plain": [
       "<Figure size 640x480 with 1 Axes>"
      ]
     },
     "metadata": {},
     "output_type": "display_data"
    },
    {
     "name": "stdout",
     "output_type": "stream",
     "text": [
      "Accuracy: 100.0%\n",
      "Precision: 100.0%\n",
      "Recall: 100.0%\n",
      "Specificity: 100.0%\n",
      "Sensitivity: 100.0%\n",
      "F1-score: 100.0%\n"
     ]
    }
   ],
   "source": [
    "#Plot the performance scores\n",
    "\n",
    "scores_label = ['Accuracy', 'Precision', 'Recall', 'Specificity', 'Sensitivity', 'F1-score']\n",
    "scores_values = [svm_accuracy,svm_precision_average, svm_recall_average, svm_specificity_average,svm_sensitivity_average, svm_f1]\n",
    "\n",
    "plt.bar(scores_label, scores_values)\n",
    "plt.ylim([0, 1])\n",
    "plt.ylabel('Score')\n",
    "plt.title('SVM Performance Metrics')\n",
    "\n",
    "# Show the plot\n",
    "plt.show()\n",
    "i=0\n",
    "for x in scores_label:\n",
    "    print(f'{x}: {scores_values[i] *100}%')\n",
    "    i+=1"
   ]
  },
  {
   "cell_type": "markdown",
   "id": "d6ba5e6b",
   "metadata": {
    "papermill": {
     "duration": 0.021361,
     "end_time": "2023-06-23T00:45:02.758839",
     "exception": false,
     "start_time": "2023-06-23T00:45:02.737478",
     "status": "completed"
    },
    "tags": []
   },
   "source": [
    "# \n",
    "# \n",
    "# **RANDOM FOREST**"
   ]
  },
  {
   "cell_type": "code",
   "execution_count": 31,
   "id": "2ecf14ba",
   "metadata": {
    "execution": {
     "iopub.execute_input": "2023-06-23T00:45:02.803339Z",
     "iopub.status.busy": "2023-06-23T00:45:02.802837Z",
     "iopub.status.idle": "2023-06-23T00:45:02.952939Z",
     "shell.execute_reply": "2023-06-23T00:45:02.951544Z"
    },
    "papermill": {
     "duration": 0.175997,
     "end_time": "2023-06-23T00:45:02.956000",
     "exception": false,
     "start_time": "2023-06-23T00:45:02.780003",
     "status": "completed"
    },
    "tags": []
   },
   "outputs": [],
   "source": [
    "from sklearn.ensemble import RandomForestClassifier\n",
    "\n",
    "#Create a model for Random Forest\n",
    "rf_model = RandomForestClassifier()"
   ]
  },
  {
   "cell_type": "code",
   "execution_count": 32,
   "id": "69fe6178",
   "metadata": {
    "execution": {
     "iopub.execute_input": "2023-06-23T00:45:03.000897Z",
     "iopub.status.busy": "2023-06-23T00:45:02.999988Z",
     "iopub.status.idle": "2023-06-23T00:45:05.921578Z",
     "shell.execute_reply": "2023-06-23T00:45:05.920238Z"
    },
    "papermill": {
     "duration": 2.946896,
     "end_time": "2023-06-23T00:45:05.924133",
     "exception": false,
     "start_time": "2023-06-23T00:45:02.977237",
     "status": "completed"
    },
    "tags": []
   },
   "outputs": [
    {
     "name": "stdout",
     "output_type": "stream",
     "text": [
      "RANDOM FOREST MODEL K FOLD CROSS VALIDATION\n",
      "\n",
      "List of possible accuracy: [1.0, 1.0, 1.0, 1.0, 1.0, 1.0, 1.0, 1.0, 1.0, 1.0]\n",
      "\n",
      "Maximum Accuracy That can be obtained from this model is: 100.0 %\n",
      "\n",
      "Minimum Accuracy: 100.0 %\n",
      "\n",
      "Overall Accuracy: 100.0 %\n",
      "\n",
      "Standard Deviation is: 0.0\n"
     ]
    }
   ],
   "source": [
    "#K Fold Cross Validation\n",
    "\n",
    "rf_lst_accu_stratified = []\n",
    "rf_overall_cm = np.zeros((3, 3))\n",
    "for train_index, test_index in skf.split(features, targetClass):\n",
    "    x_train_fold, x_test_fold = feature_scaled[train_index], feature_scaled[test_index]\n",
    "    y_train_fold, y_test_fold = targetClass[train_index], targetClass[test_index]\n",
    "    \n",
    "    #Train the model using the Training Data\n",
    "    rf_model.fit(x_train_fold, y_train_fold)\n",
    "    rf_lst_accu_stratified.append(rf_model.score(x_test_fold, y_test_fold))\n",
    "    \n",
    "    #Create the confusion matrix\n",
    "    rf_y_pred = rf_model.predict(x_test_fold)\n",
    "    cm = confusion_matrix(y_test_fold, rf_y_pred)\n",
    "    \n",
    "    rf_overall_cm += cm\n",
    "    \n",
    "# Print the output.\n",
    "print(\"RANDOM FOREST MODEL K FOLD CROSS VALIDATION\\n\")\n",
    "print('List of possible accuracy:', rf_lst_accu_stratified)\n",
    "print('\\nMaximum Accuracy That can be obtained from this model is:',\n",
    "      max(rf_lst_accu_stratified)*100, '%')\n",
    "print('\\nMinimum Accuracy:',\n",
    "      min(rf_lst_accu_stratified)*100, '%')\n",
    "print('\\nOverall Accuracy:',\n",
    "      mean(rf_lst_accu_stratified)*100, '%')\n",
    "print('\\nStandard Deviation is:', stdev(rf_lst_accu_stratified))"
   ]
  },
  {
   "cell_type": "code",
   "execution_count": 33,
   "id": "75aa0b5e",
   "metadata": {
    "execution": {
     "iopub.execute_input": "2023-06-23T00:45:05.968710Z",
     "iopub.status.busy": "2023-06-23T00:45:05.968226Z",
     "iopub.status.idle": "2023-06-23T00:45:05.974848Z",
     "shell.execute_reply": "2023-06-23T00:45:05.973565Z"
    },
    "papermill": {
     "duration": 0.032208,
     "end_time": "2023-06-23T00:45:05.977588",
     "exception": false,
     "start_time": "2023-06-23T00:45:05.945380",
     "status": "completed"
    },
    "tags": []
   },
   "outputs": [
    {
     "name": "stdout",
     "output_type": "stream",
     "text": [
      "Overall Confusion Matrix:\n",
      "[[365.   0.   0.]\n",
      " [  0. 303.   0.]\n",
      " [  0.   0. 332.]]\n"
     ]
    }
   ],
   "source": [
    "# Print the overall confusion matrix\n",
    "print(\"Overall Confusion Matrix:\")\n",
    "print(rf_overall_cm)"
   ]
  },
  {
   "cell_type": "code",
   "execution_count": 34,
   "id": "c88438bb",
   "metadata": {
    "execution": {
     "iopub.execute_input": "2023-06-23T00:45:06.022115Z",
     "iopub.status.busy": "2023-06-23T00:45:06.021692Z",
     "iopub.status.idle": "2023-06-23T00:45:06.033886Z",
     "shell.execute_reply": "2023-06-23T00:45:06.032535Z"
    },
    "papermill": {
     "duration": 0.037759,
     "end_time": "2023-06-23T00:45:06.036489",
     "exception": false,
     "start_time": "2023-06-23T00:45:05.998730",
     "status": "completed"
    },
    "tags": []
   },
   "outputs": [],
   "source": [
    "#Calculating the performance scores\n",
    "rf_tp1, rf_tp2, rf_tp3 = 365, 303, 332\n",
    "rf_fp1, rf_fp2, rf_fp3 = 0, 0, 0\n",
    "rf_tn1, rf_tn2, rf_tn3 = 635, 697, 668\n",
    "rf_fn1, rf_fn2, rf_fn3 = 0, 0, 0\n",
    "\n",
    "rf_tp = rf_tp1 + rf_tp2 + rf_tp3\n",
    "rf_fp = rf_fp1 + rf_fp2 + rf_fp3\n",
    "rf_tn = rf_tn1 + rf_tn2 + rf_tn3\n",
    "rf_fn = rf_fn1 + rf_fn2 + rf_fn3\n",
    "\n",
    "\n",
    "rf_accuracy = (rf_tp + rf_tn) / (rf_tp + rf_tn + rf_fp + rf_fn)\n",
    "\n",
    "rf_precision_class1 = rf_tp1 / (rf_tp1 + rf_fp1)\n",
    "rf_precision_class2 = rf_tp2 / (rf_tp2 + rf_fp2)\n",
    "rf_precision_class3 = rf_tp3 / (rf_tp3 + rf_fp3)\n",
    "rf_precision_average = (rf_precision_class1 + rf_precision_class2 + rf_precision_class3) / 3\n",
    "\n",
    "rf_recall_class1 = rf_tp1 / (rf_tp1 + rf_fn1)\n",
    "rf_recall_class2 = rf_tp2 / (rf_tp2 + rf_fn2)\n",
    "rf_recall_class3 = rf_tp3 / (rf_tp3 + rf_fn3)\n",
    "rf_recall_average = (rf_recall_class1 + rf_recall_class2 + rf_recall_class3) / 3\n",
    "\n",
    "rf_specificity_class1 = rf_tn1 / ( rf_fp1 + rf_tn1 )\n",
    "rf_specificity_class2 = rf_tn2 / ( rf_fp2 + rf_tn2 )\n",
    "rf_specificity_class3 = rf_tn3 / ( rf_fp3 + rf_tn3 )\n",
    "rf_specificity_average = (rf_specificity_class1 + rf_specificity_class2 + rf_specificity_class3) / 3\n",
    "\n",
    "rf_sensitivity_class1 = rf_tp1 / (rf_tp1 + rf_fn1)\n",
    "rf_sensitivity_class2 = rf_tp2 / (rf_tp2 + rf_fn2)\n",
    "rf_sensitivity_class3 = rf_tp3 / (rf_tp3 + rf_fn3)\n",
    "rf_sensitivity_average = (rf_sensitivity_class1 + rf_sensitivity_class2 + rf_sensitivity_class3) / 3\n",
    "\n",
    "rf_f1 = 2 * (rf_precision_average * rf_recall_average) / (rf_precision_average + rf_recall_average)"
   ]
  },
  {
   "cell_type": "code",
   "execution_count": 35,
   "id": "b48fe14f",
   "metadata": {
    "execution": {
     "iopub.execute_input": "2023-06-23T00:45:06.085233Z",
     "iopub.status.busy": "2023-06-23T00:45:06.084478Z",
     "iopub.status.idle": "2023-06-23T00:45:06.354051Z",
     "shell.execute_reply": "2023-06-23T00:45:06.352784Z"
    },
    "papermill": {
     "duration": 0.297378,
     "end_time": "2023-06-23T00:45:06.356866",
     "exception": false,
     "start_time": "2023-06-23T00:45:06.059488",
     "status": "completed"
    },
    "tags": []
   },
   "outputs": [
    {
     "data": {
      "image/png": "[encoded data removed]",
      "text/plain": [
       "<Figure size 640x480 with 1 Axes>"
      ]
     },
     "metadata": {},
     "output_type": "display_data"
    },
    {
     "name": "stdout",
     "output_type": "stream",
     "text": [
      "Accuracy: 100.0%\n",
      "Precision: 100.0%\n",
      "Recall: 100.0%\n",
      "Specificity: 100.0%\n",
      "Sensitivity: 100.0%\n",
      "F1-score: 100.0%\n"
     ]
    }
   ],
   "source": [
    "#Plot the performance scores\n",
    "scores_label = ['Accuracy', 'Precision', 'Recall', 'Specificity', 'Sensitivity', 'F1-score']\n",
    "scores_values = [rf_accuracy,rf_precision_average, rf_recall_average, rf_specificity_average,rf_sensitivity_average, rf_f1]\n",
    "\n",
    "plt.bar(scores_label, scores_values)\n",
    "plt.ylim([0, 1])\n",
    "plt.ylabel('Score')\n",
    "plt.title('RF Performance Metrics')\n",
    "\n",
    "# Show the plot\n",
    "plt.show()\n",
    "i=0\n",
    "for x in scores_label:\n",
    "    print(f'{x}: {scores_values[i] *100}%')\n",
    "    i+=1"
   ]
  },
  {
   "cell_type": "markdown",
   "id": "d66a5a45",
   "metadata": {
    "papermill": {
     "duration": 0.021509,
     "end_time": "2023-06-23T00:45:06.399894",
     "exception": false,
     "start_time": "2023-06-23T00:45:06.378385",
     "status": "completed"
    },
    "tags": []
   },
   "source": [
    "# \n",
    "# \n",
    "# \n",
    "# \n",
    "# ****COMPARISON OF PERFORMANCE SCORES****"
   ]
  },
  {
   "cell_type": "code",
   "execution_count": 36,
   "id": "92fdfe4e",
   "metadata": {
    "execution": {
     "iopub.execute_input": "2023-06-23T00:45:06.445355Z",
     "iopub.status.busy": "2023-06-23T00:45:06.444928Z",
     "iopub.status.idle": "2023-06-23T00:45:06.708541Z",
     "shell.execute_reply": "2023-06-23T00:45:06.707097Z"
    },
    "papermill": {
     "duration": 0.289893,
     "end_time": "2023-06-23T00:45:06.711620",
     "exception": false,
     "start_time": "2023-06-23T00:45:06.421727",
     "status": "completed"
    },
    "tags": []
   },
   "outputs": [
    {
     "data": {
      "image/png": "[encoded data removed]",
      "text/plain": [
       "<Figure size 640x480 with 1 Axes>"
      ]
     },
     "metadata": {},
     "output_type": "display_data"
    },
    {
     "name": "stdout",
     "output_type": "stream",
     "text": [
      "DT: 100.0%\n",
      "NB: 92.38754325259517%\n",
      "RLR: 57.18332658842574%\n",
      "SVM: 100.0%\n",
      "RF: 100.0%\n"
     ]
    }
   ],
   "source": [
    "models_label = ['DT', 'NB', 'RLR', 'SVM', 'RF']\n",
    "scores_values = [dt_accuracy, nb_accuracy, rlr_accuracy,svm_accuracy, rf_accuracy]\n",
    "\n",
    "plt.bar(models_label, scores_values)\n",
    "plt.ylim([0, 1])\n",
    "plt.ylabel('Performance Score')\n",
    "plt.title('Accuracy')\n",
    "\n",
    "# Show the plot\n",
    "plt.show()\n",
    "i=0\n",
    "for x in models_label:\n",
    "    print(f'{x}: {scores_values[i] *100}%')\n",
    "    i+=1"
   ]
  },
  {
   "cell_type": "code",
   "execution_count": 37,
   "id": "5766cd88",
   "metadata": {
    "execution": {
     "iopub.execute_input": "2023-06-23T00:45:06.758728Z",
     "iopub.status.busy": "2023-06-23T00:45:06.757392Z",
     "iopub.status.idle": "2023-06-23T00:45:07.016996Z",
     "shell.execute_reply": "2023-06-23T00:45:07.015664Z"
    },
    "papermill": {
     "duration": 0.286045,
     "end_time": "2023-06-23T00:45:07.019793",
     "exception": false,
     "start_time": "2023-06-23T00:45:06.733748",
     "status": "completed"
    },
    "tags": []
   },
   "outputs": [
    {
     "data": {
      "image/png": "[encoded data removed]",
      "text/plain": [
       "<Figure size 640x480 with 1 Axes>"
      ]
     },
     "metadata": {},
     "output_type": "display_data"
    },
    {
     "name": "stdout",
     "output_type": "stream",
     "text": [
      "DT: 100.0%\n",
      "NB: 90.10400576665637%\n",
      "RLR: 80.27591349739001%\n",
      "SVM: 100.0%\n",
      "RF: 100.0%\n"
     ]
    }
   ],
   "source": [
    "models_label = ['DT', 'NB', 'RLR', 'SVM', 'RF']\n",
    "scores_values = [dt_precision_average, nb_precision_average, rlr_precision_average,svm_precision_average, rf_precision_average]\n",
    "\n",
    "plt.bar(models_label, scores_values)\n",
    "plt.ylim([0, 1])\n",
    "plt.ylabel('Performance Score')\n",
    "plt.title('Precision')\n",
    "\n",
    "# Show the plot\n",
    "plt.show()\n",
    "i=0\n",
    "for x in models_label:\n",
    "    print(f'{x}: {scores_values[i] *100}%')\n",
    "    i+=1"
   ]
  },
  {
   "cell_type": "code",
   "execution_count": 38,
   "id": "af4ea5a6",
   "metadata": {
    "execution": {
     "iopub.execute_input": "2023-06-23T00:45:07.069065Z",
     "iopub.status.busy": "2023-06-23T00:45:07.068606Z",
     "iopub.status.idle": "2023-06-23T00:45:07.342053Z",
     "shell.execute_reply": "2023-06-23T00:45:07.340575Z"
    },
    "papermill": {
     "duration": 0.302736,
     "end_time": "2023-06-23T00:45:07.345120",
     "exception": false,
     "start_time": "2023-06-23T00:45:07.042384",
     "status": "completed"
    },
    "tags": []
   },
   "outputs": [
    {
     "data": {
      "image/png": "[encoded data removed]",
      "text/plain": [
       "<Figure size 640x480 with 1 Axes>"
      ]
     },
     "metadata": {},
     "output_type": "display_data"
    },
    {
     "name": "stdout",
     "output_type": "stream",
     "text": [
      "DT: 100.0%\n",
      "NB: 88.8490895631897%\n",
      "RLR: 44.648561241666336%\n",
      "SVM: 100.0%\n",
      "RF: 100.0%\n"
     ]
    }
   ],
   "source": [
    "models_label = ['DT', 'NB', 'RLR', 'SVM', 'RF']\n",
    "scores_values = [dt_recall_average, nb_recall_average, rlr_recall_average,svm_recall_average, rf_recall_average]\n",
    "\n",
    "plt.bar(models_label, scores_values)\n",
    "plt.ylim([0, 1])\n",
    "plt.ylabel('Performance Score')\n",
    "plt.title('Recall')\n",
    "\n",
    "# Show the plot\n",
    "plt.show()\n",
    "i=0\n",
    "for x in models_label:\n",
    "    print(f'{x}: {scores_values[i] *100}%')\n",
    "    i+=1"
   ]
  },
  {
   "cell_type": "code",
   "execution_count": 39,
   "id": "d0c7a090",
   "metadata": {
    "execution": {
     "iopub.execute_input": "2023-06-23T00:45:07.394191Z",
     "iopub.status.busy": "2023-06-23T00:45:07.393676Z",
     "iopub.status.idle": "2023-06-23T00:45:07.660238Z",
     "shell.execute_reply": "2023-06-23T00:45:07.658818Z"
    },
    "papermill": {
     "duration": 0.295491,
     "end_time": "2023-06-23T00:45:07.663811",
     "exception": false,
     "start_time": "2023-06-23T00:45:07.368320",
     "status": "completed"
    },
    "tags": []
   },
   "outputs": [
    {
     "data": {
      "image/png": "[encoded data removed]",
      "text/plain": [
       "<Figure size 640x480 with 1 Axes>"
      ]
     },
     "metadata": {},
     "output_type": "display_data"
    },
    {
     "name": "stdout",
     "output_type": "stream",
     "text": [
      "DT: 100.0%\n",
      "NB: 94.17961960774623%\n",
      "RLR: 72.23097112860893%\n",
      "SVM: 100.0%\n",
      "RF: 100.0%\n"
     ]
    }
   ],
   "source": [
    "models_label = ['DT', 'NB', 'RLR', 'SVM', 'RF']\n",
    "scores_values = [dt_specificity_average, nb_specificity_average, rlr_specificity_average,svm_specificity_average, rf_specificity_average]\n",
    "\n",
    "plt.bar(models_label, scores_values)\n",
    "plt.ylim([0, 1])\n",
    "plt.ylabel('Performance Score')\n",
    "plt.title('Specificity')\n",
    "\n",
    "# Show the plot\n",
    "plt.show()\n",
    "i=0\n",
    "for x in models_label:\n",
    "    print(f'{x}: {scores_values[i] *100}%')\n",
    "    i+=1"
   ]
  },
  {
   "cell_type": "code",
   "execution_count": 40,
   "id": "759869de",
   "metadata": {
    "execution": {
     "iopub.execute_input": "2023-06-23T00:45:07.714804Z",
     "iopub.status.busy": "2023-06-23T00:45:07.713942Z",
     "iopub.status.idle": "2023-06-23T00:45:07.982381Z",
     "shell.execute_reply": "2023-06-23T00:45:07.981151Z"
    },
    "papermill": {
     "duration": 0.297194,
     "end_time": "2023-06-23T00:45:07.985198",
     "exception": false,
     "start_time": "2023-06-23T00:45:07.688004",
     "status": "completed"
    },
    "tags": []
   },
   "outputs": [
    {
     "data": {
      "image/png": "[encoded data removed]",
      "text/plain": [
       "<Figure size 640x480 with 1 Axes>"
      ]
     },
     "metadata": {},
     "output_type": "display_data"
    },
    {
     "name": "stdout",
     "output_type": "stream",
     "text": [
      "DT: 100.0%\n",
      "NB: 88.8490895631897%\n",
      "RLR: 44.648561241666336%\n",
      "SVM: 100.0%\n",
      "RF: 100.0%\n"
     ]
    }
   ],
   "source": [
    "models_label = ['DT', 'NB', 'RLR', 'SVM', 'RF']\n",
    "scores_values = [dt_sensitivity_average, nb_sensitivity_average, rlr_sensitivity_average,svm_sensitivity_average, rf_sensitivity_average]\n",
    "\n",
    "plt.bar(models_label, scores_values)\n",
    "plt.ylim([0, 1])\n",
    "plt.ylabel('Performance Score')\n",
    "plt.title('Sensitivity')\n",
    "\n",
    "# Show the plot\n",
    "plt.show()\n",
    "i=0\n",
    "for x in models_label:\n",
    "    print(f'{x}: {scores_values[i] *100}%')\n",
    "    i+=1"
   ]
  },
  {
   "cell_type": "code",
   "execution_count": 41,
   "id": "1f7c27e3",
   "metadata": {
    "execution": {
     "iopub.execute_input": "2023-06-23T00:45:08.036133Z",
     "iopub.status.busy": "2023-06-23T00:45:08.035618Z",
     "iopub.status.idle": "2023-06-23T00:45:08.308701Z",
     "shell.execute_reply": "2023-06-23T00:45:08.307233Z"
    },
    "papermill": {
     "duration": 0.301946,
     "end_time": "2023-06-23T00:45:08.311298",
     "exception": false,
     "start_time": "2023-06-23T00:45:08.009352",
     "status": "completed"
    },
    "tags": []
   },
   "outputs": [
    {
     "data": {
      "image/png": "[encoded data removed]",
      "text/plain": [
       "<Figure size 640x480 with 1 Axes>"
      ]
     },
     "metadata": {},
     "output_type": "display_data"
    },
    {
     "name": "stdout",
     "output_type": "stream",
     "text": [
      "DT: 100.0%\n",
      "NB: 89.4721475882582%\n",
      "RLR: 57.38193492517223%\n",
      "SVM: 100.0%\n",
      "RF: 100.0%\n"
     ]
    }
   ],
   "source": [
    "models_label = ['DT', 'NB', 'RLR', 'SVM', 'RF']\n",
    "scores_values = [dt_f1, nb_f1, rlr_f1,svm_f1, rf_f1]\n",
    "\n",
    "plt.bar(models_label, scores_values)\n",
    "plt.ylim([0, 1])\n",
    "plt.ylabel('Performance Score')\n",
    "plt.title('F1')\n",
    "\n",
    "# Show the plot\n",
    "plt.show()\n",
    "i=0\n",
    "for x in models_label:\n",
    "    print(f'{x}: {scores_values[i] *100}%')\n",
    "    i+=1"
   ]
  }
 ],
 "metadata": {
  "kernelspec": {
   "display_name": "Python 3",
   "language": "python",
   "name": "python3"
  },
  "language_info": {
   "codemirror_mode": {
    "name": "ipython",
    "version": 3
   },
   "file_extension": ".py",
   "mimetype": "text/x-python",
   "name": "python",
   "nbconvert_exporter": "python",
   "pygments_lexer": "ipython3",
   "version": "3.10.10"
  },
  "papermill": {
   "default_parameters": {},
   "duration": 26.261706,
   "end_time": "2023-06-23T00:45:09.560886",
   "environment_variables": {},
   "exception": null,
   "input_path": "__notebook__.ipynb",
   "output_path": "__notebook__.ipynb",
   "parameters": {},
   "start_time": "2023-06-23T00:44:43.299180",
   "version": "2.4.0"
  }
 },
 "nbformat": 4,
 "nbformat_minor": 5
}
